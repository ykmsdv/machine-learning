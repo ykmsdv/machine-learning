{
 "cells": [
  {
   "cell_type": "code",
   "execution_count": 1,
   "metadata": {},
   "outputs": [
    {
     "name": "stderr",
     "output_type": "stream",
     "text": [
      "//anaconda3/lib/python3.7/site-packages/skimage/io/manage_plugins.py:23: UserWarning: Your installed pillow version is < 8.1.2. Several security issues (CVE-2021-27921, CVE-2021-25290, CVE-2021-25291, CVE-2021-25293, and more) have been fixed in pillow 8.1.2 or higher. We recommend to upgrade this library.\n",
      "  from .collection import imread_collection_wrapper\n"
     ]
    }
   ],
   "source": [
    "import numpy as np\n",
    "import pandas as pd\n",
    "import matplotlib.pyplot as plt\n",
    "import pickle\n",
    "import warnings\n",
    "warnings.filterwarnings(\"ignore\", message=\"numpy.ufunc size changed\")\n",
    "from sklearn import neural_network\n",
    "from skimage import io, color, transform, feature\n",
    "from my_measures import BinaryClassificationPerformance  \n",
    "from sklearn.model_selection import train_test_split\n",
    "%matplotlib inline"
   ]
  },
  {
   "cell_type": "markdown",
   "metadata": {},
   "source": [
    "### IMPORTANT!!! Make sure you are using BinaryClassificationPerformance v1.03\n"
   ]
  },
  {
   "cell_type": "code",
   "execution_count": 2,
   "metadata": {},
   "outputs": [
    {
     "name": "stdout",
     "output_type": "stream",
     "text": [
      "Help on class BinaryClassificationPerformance in module my_measures:\n",
      "\n",
      "class BinaryClassificationPerformance(builtins.object)\n",
      " |  BinaryClassificationPerformance(predictions, labels, desc, probabilities=None)\n",
      " |  \n",
      " |  Performance measures to evaluate the fit of a binary classification model, v1.03\n",
      " |  \n",
      " |  Methods defined here:\n",
      " |  \n",
      " |  __init__(self, predictions, labels, desc, probabilities=None)\n",
      " |      Initialize attributes: predictions-vector of predicted values for Y, labels-vector of labels for Y\n",
      " |  \n",
      " |  compute_measures(self)\n",
      " |      Compute performance measures defined by Flach p. 57\n",
      " |  \n",
      " |  img_indices(self)\n",
      " |      Get the indices of true and false positives to be able to locate the corresponding images in a list of image names\n",
      " |  \n",
      " |  ----------------------------------------------------------------------\n",
      " |  Data descriptors defined here:\n",
      " |  \n",
      " |  __dict__\n",
      " |      dictionary for instance variables (if defined)\n",
      " |  \n",
      " |  __weakref__\n",
      " |      list of weak references to the object (if defined)\n",
      "\n"
     ]
    }
   ],
   "source": [
    "help(BinaryClassificationPerformance)"
   ]
  },
  {
   "cell_type": "markdown",
   "metadata": {},
   "source": [
    "### file paths and names"
   ]
  },
  {
   "cell_type": "code",
   "execution_count": 3,
   "metadata": {},
   "outputs": [],
   "source": [
    "ci_path = 'plane_data/cropped_images/' # file path for cropped images for training\n",
    "l_file = 'plane_data/plane_labels.csv' # file path and file name for csv with labels"
   ]
  },
  {
   "cell_type": "markdown",
   "metadata": {},
   "source": [
    "# Function for feature building and extraction on photographs¶\n",
    "\n",
    "scikit-image documentation on methods used for feature extraction:  \n",
    "\n",
    "* http://scikit-image.org/docs/dev/api/skimage.color.html#rgb2gray  \n",
    "* http://scikit-image.org/docs/dev/api/skimage.transform.html#skimage.transform.resize  \n",
    "* http://scikit-image.org/docs/stable/api/skimage.feature.html#skimage.feature.canny"
   ]
  },
  {
   "cell_type": "code",
   "execution_count": 4,
   "metadata": {},
   "outputs": [],
   "source": [
    "# in downscaling the image, what do you want the new dimensions to be?\n",
    "# the original dimensions of cropped images: (60, 140), which if 8,400 pixels\n",
    "dims = (15, 35) # 25% of the original size, 525 pixels\n",
    "\n",
    "# dims = (60, 140) # used for downscale_local_mean"
   ]
  },
  {
   "cell_type": "code",
   "execution_count": 5,
   "metadata": {},
   "outputs": [
    {
     "name": "stdout",
     "output_type": "stream",
     "text": [
      "downscaled image shape: \n",
      "(360, 20)\n",
      "image representation (first row of pixels): \n",
      "[False False False False False False False False False False False False\n",
      " False False False False False False False False]\n",
      "\n",
      "\n",
      "example of transformation: \n"
     ]
    },
    {
     "data": {
      "image/png": "[encoded data removed]",
      "text/plain": [
       "<Figure size 432x288 with 1 Axes>"
      ]
     },
     "metadata": {
      "needs_background": "light"
     },
     "output_type": "display_data"
    }
   ],
   "source": [
    "def image_manipulation(imname, imgs_path, imview=False):\n",
    "    warnings.filterwarnings('ignore')\n",
    "    imname = imgs_path + imname + '.png'\n",
    "    img_raw = io.imread(imname, as_gray=True)\n",
    "    \n",
    "#     downscaled = transform.downscale_local_mean(img_raw, (6,5))\n",
    "    downscaled = transform.resize(img_raw, (dims[0], dims[1])) # downscale image\n",
    "    \n",
    "    downscaled = transform.warp_polar(downscaled, scaling='log')\n",
    "    \n",
    "    final_image = feature.canny(downscaled) # edge filter image with Canny algorithm\n",
    "    if imview==True:\n",
    "        io.imshow(final_image)\n",
    "    warnings.filterwarnings('always')\n",
    "    return final_image\n",
    "\n",
    "# test the function, look at input/output\n",
    "test_image = image_manipulation('2017-08-25T23+24+13_390Z', ci_path, True)\n",
    "print('downscaled image shape: ')\n",
    "print(test_image.shape)\n",
    "print('image representation (first row of pixels): ')\n",
    "print(test_image[0])\n",
    "print('\\n')\n",
    "print('example of transformation: ')"
   ]
  },
  {
   "cell_type": "markdown",
   "metadata": {},
   "source": [
    "for comparison, look at original image:"
   ]
  },
  {
   "cell_type": "code",
   "execution_count": 6,
   "metadata": {},
   "outputs": [
    {
     "data": {
      "text/plain": [
       "<matplotlib.image.AxesImage at 0x12bb43fd0>"
      ]
     },
     "execution_count": 6,
     "metadata": {},
     "output_type": "execute_result"
    },
    {
     "data": {
      "image/png": "[encoded data removed]",
      "text/plain": [
       "<Figure size 432x288 with 1 Axes>"
      ]
     },
     "metadata": {
      "needs_background": "light"
     },
     "output_type": "display_data"
    }
   ],
   "source": [
    "this_imname = ci_path + '2017-08-25T23+24+13_390Z.png'\n",
    "io.imshow(io.imread(this_imname))"
   ]
  },
  {
   "cell_type": "markdown",
   "metadata": {},
   "source": [
    "# function to process raw images, resulting in training and test datasets"
   ]
  },
  {
   "cell_type": "code",
   "execution_count": 7,
   "metadata": {},
   "outputs": [],
   "source": [
    "# function that takes raw images and completes all preprocessing required before model fits\n",
    "def process_raw_data(labels_fn, images_fp, my_random_seed, imview=False, test=False):\n",
    "    plane_data = pd.read_csv(labels_fn) # read in photograph labels\n",
    "    print(\"First few lines of image labels: \")\n",
    "    print(plane_data.head())\n",
    "    print(\"Size of image label dataFrame: \")\n",
    "    print(plane_data.shape)\n",
    "        \n",
    "    # construct lists for features, labels, and a crosswalk reference to image names\n",
    "    features_list = []\n",
    "    if (not test):\n",
    "        y_list = []\n",
    "    imnames_list = []\n",
    "\n",
    "    for index, row in plane_data.iterrows():\n",
    "        features_list.append(image_manipulation(row['img_name'], images_fp))\n",
    "        if (not test):\n",
    "            y_list.append(row['plane'])\n",
    "        imnames_list.append(row['img_name'])\n",
    "    \n",
    "    # convert the lists to ndarrays\n",
    "    features = np.asarray(features_list)\n",
    "    if (not test):\n",
    "        Y = np.asarray(y_list)\n",
    "    imgs = np.asarray(imnames_list)\n",
    "    print('Shape of original feature representation: ')\n",
    "    print(features.shape)\n",
    "\n",
    "    # flatten the images ndarray to one row per image\n",
    "    features_flat = features.reshape((features.shape[0], -1))\n",
    "\n",
    "    print('Shape of flat feature representation: ')\n",
    "    print(features_flat.shape)\n",
    "\n",
    "    if (not test):\n",
    "        print('Shape of Y: ')\n",
    "        print(Y.shape)\n",
    "\n",
    "        print('Number of images with planes: ')\n",
    "        print(Y.sum())\n",
    "    \n",
    "        # create train and test sets\n",
    "        data_train, data_test, y_train, y_test, imgs_train, imgs_test = train_test_split(features_flat, \n",
    "            Y, imgs, test_size = 0.25, random_state = my_random_seed)\n",
    "\n",
    "        print('Shape of training set: ')\n",
    "        print(y_train.shape)\n",
    "        print('Number of training images that contain an airplane: ')\n",
    "        print(y_train.sum())\n",
    "\n",
    "        print('Shape of test set: ')\n",
    "        print(y_test.shape)\n",
    "        print('Number of test images that contain an airplane: ')\n",
    "        print(y_test.sum())\n",
    "    \n",
    "    if (test):\n",
    "        X_submission_test = features_flat\n",
    "        print(\"Shape of X_test for submission:\")\n",
    "        print(X_submission_test.shape)\n",
    "        print('SUCCESS!')\n",
    "        return(X_submission_test, plane_data)\n",
    "    else: \n",
    "        print(\"Shape of data_train and data_test:\")\n",
    "        print(data_train.shape)\n",
    "        print(data_test.shape)\n",
    "        print(\"Shape of y_train and y_test:\")\n",
    "        print(y_train.shape)\n",
    "        print(y_test.shape)\n",
    "        print(\"Shape of imgs_train and imgs_test:\")\n",
    "        print(imgs_train.shape)\n",
    "        print(imgs_test.shape)\n",
    "        print('SUCCESS!')\n",
    "        return(data_train, data_test, y_train, y_test, imgs_train, imgs_test)\n"
   ]
  },
  {
   "cell_type": "code",
   "execution_count": 8,
   "metadata": {},
   "outputs": [
    {
     "name": "stderr",
     "output_type": "stream",
     "text": [
      "//anaconda3/lib/python3.7/site-packages/pandas/core/indexes/base.py:411: DeprecationWarning: `np.bool` is a deprecated alias for the builtin `bool`. To silence this warning, use `bool` by itself. Doing this will not modify any behavior and is safe. If you specifically wanted the numpy scalar type, use `np.bool_` here.\n",
      "Deprecated in NumPy 1.20; for more details and guidance: https://numpy.org/devdocs/release/1.20.0-notes.html#deprecations\n",
      "  elif issubclass(data.dtype.type, np.bool) or is_bool_dtype(data):\n",
      "//anaconda3/lib/python3.7/site-packages/pandas/core/indexes/base.py:411: DeprecationWarning: `np.bool` is a deprecated alias for the builtin `bool`. To silence this warning, use `bool` by itself. Doing this will not modify any behavior and is safe. If you specifically wanted the numpy scalar type, use `np.bool_` here.\n",
      "Deprecated in NumPy 1.20; for more details and guidance: https://numpy.org/devdocs/release/1.20.0-notes.html#deprecations\n",
      "  elif issubclass(data.dtype.type, np.bool) or is_bool_dtype(data):\n",
      "//anaconda3/lib/python3.7/site-packages/pandas/core/indexes/base.py:411: DeprecationWarning: `np.bool` is a deprecated alias for the builtin `bool`. To silence this warning, use `bool` by itself. Doing this will not modify any behavior and is safe. If you specifically wanted the numpy scalar type, use `np.bool_` here.\n",
      "Deprecated in NumPy 1.20; for more details and guidance: https://numpy.org/devdocs/release/1.20.0-notes.html#deprecations\n",
      "  elif issubclass(data.dtype.type, np.bool) or is_bool_dtype(data):\n"
     ]
    },
    {
     "name": "stdout",
     "output_type": "stream",
     "text": [
      "First few lines of image labels: \n",
      "                   img_name  plane\n",
      "0  2016-08-02T13+50+24_430Z  False\n",
      "1  2016-08-02T14+12+37_390Z  False\n",
      "2  2016-08-02T22+20+26_600Z  False\n",
      "3  2016-08-03T12+04+30_670Z  False\n",
      "4  2016-08-03T12+32+21_790Z  False\n",
      "Size of image label dataFrame: \n",
      "(6758, 2)\n",
      "Shape of original feature representation: \n",
      "(6758, 360, 20)\n",
      "Shape of flat feature representation: \n",
      "(6758, 7200)\n",
      "Shape of Y: \n",
      "(6758,)\n",
      "Number of images with planes: \n",
      "101\n",
      "Shape of training set: \n",
      "(5068,)\n",
      "Number of training images that contain an airplane: \n",
      "67\n",
      "Shape of test set: \n",
      "(1690,)\n",
      "Number of test images that contain an airplane: \n",
      "34\n",
      "Shape of data_train and data_test:\n",
      "(5068, 7200)\n",
      "(1690, 7200)\n",
      "Shape of y_train and y_test:\n",
      "(5068,)\n",
      "(1690,)\n",
      "Shape of imgs_train and imgs_test:\n",
      "(5068,)\n",
      "(1690,)\n",
      "SUCCESS!\n"
     ]
    }
   ],
   "source": [
    "data_train, data_test, y_train, y_test, imgs_train, imgs_test = process_raw_data(l_file, ci_path, \n",
    "    my_random_seed=25, imview=False, test=False)"
   ]
  },
  {
   "cell_type": "code",
   "execution_count": 9,
   "metadata": {},
   "outputs": [],
   "source": [
    "def performance_examples(typ, measures):\n",
    "    iiv = ''\n",
    "    if typ == 'FP':\n",
    "        iiv = typ + '_indices'\n",
    "    elif typ == 'TP':\n",
    "        iiv = typ + '_indices'\n",
    "    elif typ == 'FN':\n",
    "        iiv = typ + '_indices'\n",
    "    else:\n",
    "        raise ValueError('input must be \"TP\", \"FP\", or \"FN\"')\n",
    "    for img in measures[iiv]:\n",
    "        warnings.filterwarnings('ignore')\n",
    "        img_to_show = data_test[img]\n",
    "        img_to_show = transform.warp_polar(img_to_show, scaling='log')\n",
    "        \n",
    "        plt.figure()\n",
    "        lookat = ci_path + imgs_test[img] + '.png' # location of original image\n",
    "        io.imshow(lookat) # show original image\n",
    "        plt.figure()\n",
    "        io.imshow(img_to_show.reshape(dims[0], dims[1]).warp_polar(scaling='log')) # show manipulation for feature representation\n",
    "        warnings.filterwarnings('always')"
   ]
  },
  {
   "cell_type": "markdown",
   "metadata": {},
   "source": [
    "# Multilayer Perceptron, a.k.a. neural network"
   ]
  },
  {
   "cell_type": "markdown",
   "metadata": {},
   "source": [
    "# ITERATIONS"
   ]
  },
  {
   "cell_type": "markdown",
   "metadata": {},
   "source": [
    "##### Original value provided in starter code:"
   ]
  },
  {
   "cell_type": "code",
   "execution_count": null,
   "metadata": {},
   "outputs": [
    {
     "name": "stdout",
     "output_type": "stream",
     "text": [
      "MLPClassifier(activation='relu', alpha=0.0001, batch_size='auto', beta_1=0.9,\n",
      "              beta_2=0.999, early_stopping=False, epsilon=1e-08,\n",
      "              hidden_layer_sizes=(100,), learning_rate='constant',\n",
      "              learning_rate_init=0.001, max_iter=1000, momentum=0.9,\n",
      "              n_iter_no_change=10, nesterovs_momentum=True, power_t=0.5,\n",
      "              random_state=None, shuffle=True, solver='adam', tol=0.0001,\n",
      "              validation_fraction=0.1, verbose=False, warm_start=False)\n"
     ]
    }
   ],
   "source": [
    "# MODEL: Multi-layer Perceptron aka neural network\n",
    "\n",
    "# # nn default:\n",
    "nnd = neural_network.MLPClassifier(max_iter=1000)\n",
    "\n",
    "print(nnd)\n",
    "nnd.fit(data_train, y_train)\n",
    "\n",
    "nnd_performance = BinaryClassificationPerformance(nnd.predict(data_train), y_train, 'nnd')\n",
    "nnd_performance.compute_measures()\n",
    "nnd_performance.performance_measures['set'] = 'train'\n",
    "print('TRAINING SET: ')\n",
    "print(nnd_performance.performance_measures)\n",
    "\n",
    "nnd_performance_test = BinaryClassificationPerformance(nnd.predict(data_test), y_test, 'nnd_test')\n",
    "nnd_performance_test.compute_measures()\n",
    "nnd_performance_test.performance_measures['set'] = 'test'\n",
    "print('TEST SET: ')\n",
    "print(nnd_performance_test.performance_measures)\n",
    "\n",
    "nnd_performance_test.img_indices()\n",
    "nnd_img_indices_to_view = nnd_performance_test.image_indices\n"
   ]
  },
  {
   "cell_type": "markdown",
   "metadata": {},
   "source": [
    "### Iteration 1:"
   ]
  },
  {
   "cell_type": "code",
   "execution_count": null,
   "metadata": {
    "scrolled": true
   },
   "outputs": [],
   "source": [
    "# MODEL: Multi-layer Perceptron aka neural network\n",
    "\n",
    "# # nn (max_iter=1000, activation='logistic') as used in previous assignment, no hidden layers:\n",
    "nn_1 = neural_network.MLPClassifier(max_iter=1000, activation='logistic')\n",
    "\n",
    "print(nn_1)\n",
    "nn_1.fit(data_train, y_train)\n",
    "\n",
    "nn_1_performance = BinaryClassificationPerformance(nn_1.predict(data_train), y_train, 'nn-logistic')\n",
    "nn_1_performance.compute_measures()\n",
    "nn_1_performance.performance_measures['set'] = 'train'\n",
    "print('TRAINING SET: ')\n",
    "print(nn_1_performance.performance_measures)\n",
    "\n",
    "nn_1_performance_test = BinaryClassificationPerformance(nn_1.predict(data_test), y_test, 'nn-logistic_test')\n",
    "nn_1_performance_test.compute_measures()\n",
    "nn_1_performance_test.performance_measures['set'] = 'test'\n",
    "print('TEST SET: ')\n",
    "print(nn_1_performance_test.performance_measures)\n",
    "\n",
    "nn_1_performance_test.img_indices()\n",
    "nn1_img_indices_to_view = nn_1_performance_test.image_indices\n"
   ]
  },
  {
   "cell_type": "markdown",
   "metadata": {},
   "source": [
    "### Iteration 2:"
   ]
  },
  {
   "cell_type": "code",
   "execution_count": null,
   "metadata": {},
   "outputs": [],
   "source": [
    "# MODEL: Multi-layer Perceptron aka neural network\n",
    "\n",
    "# # nn 2:\n",
    "nn_2 = neural_network.MLPClassifier(max_iter=1000, activation='logistic', hidden_layer_sizes=(4, 3, 2))\n",
    "\n",
    "print(nn_2)\n",
    "nn_2.fit(data_train, y_train)\n",
    "\n",
    "nn_2_performance = BinaryClassificationPerformance(nn_2.predict(data_train), y_train, 'nn4-3-2')\n",
    "nn_2_performance.compute_measures()\n",
    "nn_2_performance.performance_measures['set'] = 'train'\n",
    "print('TRAINING SET: ')\n",
    "print(nn_2_performance.performance_measures)\n",
    "\n",
    "nn_2_performance_test = BinaryClassificationPerformance(nn_2.predict(data_test), y_test, 'nn4-3-2_test')\n",
    "nn_2_performance_test.compute_measures()\n",
    "nn_2_performance_test.performance_measures['set'] = 'test'\n",
    "print('TEST SET: ')\n",
    "print(nn_2_performance_test.performance_measures)\n",
    "\n",
    "nn_2_performance_test.img_indices()\n",
    "nn_2_img_indices_to_view = nn_2_performance_test.image_indices\n"
   ]
  },
  {
   "cell_type": "markdown",
   "metadata": {},
   "source": [
    "### Iteration 3:"
   ]
  },
  {
   "cell_type": "code",
   "execution_count": null,
   "metadata": {},
   "outputs": [],
   "source": [
    "# MODEL: Multi-layer Perceptron aka neural network\n",
    "\n",
    "# # nn 3:\n",
    "nn_3 = neural_network.MLPClassifier(max_iter=1000, activation='logistic', hidden_layer_sizes=(50,25,15))\n",
    "\n",
    "print(nn_3)\n",
    "nn_3.fit(data_train, y_train)\n",
    "\n",
    "nn_3_performance = BinaryClassificationPerformance(nn_3.predict(data_train), y_train, 'nn50-25-15')\n",
    "nn_3_performance.compute_measures()\n",
    "nn_3_performance.performance_measures['set'] = 'train'\n",
    "print('TRAINING SET: ')\n",
    "print(nn_3_performance.performance_measures)\n",
    "\n",
    "nn_3_performance_test = BinaryClassificationPerformance(nn_3.predict(data_test), y_test, 'nn50_25_15_test')\n",
    "nn_3_performance_test.compute_measures()\n",
    "nn_3_performance_test.performance_measures['set'] = 'test'\n",
    "print('TEST SET: ')\n",
    "print(nn_3_performance_test.performance_measures)\n",
    "\n",
    "nn_3_performance_test.img_indices()\n",
    "nn_3_img_indices_to_view = nn_3_performance_test.image_indices\n"
   ]
  },
  {
   "cell_type": "markdown",
   "metadata": {},
   "source": [
    "### Iteration 4"
   ]
  },
  {
   "cell_type": "code",
   "execution_count": null,
   "metadata": {
    "scrolled": true
   },
   "outputs": [],
   "source": [
    "# MODEL: Multi-layer Perceptron aka neural network\n",
    "\n",
    "# # nn 4:\n",
    "nn_4 = neural_network.MLPClassifier(max_iter=1000, activation='logistic', hidden_layer_sizes=(6,5,4,3))\n",
    "\n",
    "print(nn_4)\n",
    "nn_4.fit(data_train, y_train)\n",
    "\n",
    "nn_4_performance = BinaryClassificationPerformance(nn_4.predict(data_train), y_train, 'nn6-5-4-3')\n",
    "nn_4_performance.compute_measures()\n",
    "nn_4_performance.performance_measures['set'] = 'train'\n",
    "print('TRAINING SET: ')\n",
    "print(nn_4_performance.performance_measures)\n",
    "\n",
    "nn_4_performance_test = BinaryClassificationPerformance(nn_4.predict(data_test), y_test, 'nn6-5-4-3_test')\n",
    "nn_4_performance_test.compute_measures()\n",
    "nn_4_performance_test.performance_measures['set'] = 'test'\n",
    "print('TEST SET: ')\n",
    "print(nn_4_performance_test.performance_measures)\n",
    "\n",
    "nn_4_performance_test.img_indices()\n",
    "nn_4_img_indices_to_view = nn_4_performance_test.image_indices\n"
   ]
  },
  {
   "cell_type": "markdown",
   "metadata": {},
   "source": [
    "### Iteration 5"
   ]
  },
  {
   "cell_type": "code",
   "execution_count": null,
   "metadata": {},
   "outputs": [],
   "source": [
    "# MODEL: Multi-layer Perceptron aka neural network\n",
    "\n",
    "# # nn 5:\n",
    "nn_5 = neural_network.MLPClassifier(max_iter=1000, activation='logistic', hidden_layer_sizes=(100, 80, 60, 40, 20))\n",
    "\n",
    "print(nn_5)\n",
    "nn_5.fit(data_train, y_train)\n",
    "\n",
    "nn_5_performance = BinaryClassificationPerformance(nn_5.predict(data_train), y_train, 'nn-100-80-60-40-20')\n",
    "nn_5_performance.compute_measures()\n",
    "nn_5_performance.performance_measures['set'] = 'train'\n",
    "print('TRAINING SET: ')\n",
    "print(nn_5_performance.performance_measures)\n",
    "\n",
    "nn_5_performance_test = BinaryClassificationPerformance(nn_5.predict(data_test), y_test, 'nn-100-80-60-40-20_test')\n",
    "nn_5_performance_test.compute_measures()\n",
    "nn_5_performance_test.performance_measures['set'] = 'test'\n",
    "print('TEST SET: ')\n",
    "print(nn_5_performance_test.performance_measures)\n",
    "\n",
    "nn_5_performance_test.img_indices()\n",
    "nn_5_img_indices_to_view = nn_5_performance_test.image_indices\n"
   ]
  },
  {
   "cell_type": "markdown",
   "metadata": {},
   "source": [
    "### Iteration 6"
   ]
  },
  {
   "cell_type": "code",
   "execution_count": null,
   "metadata": {},
   "outputs": [],
   "source": [
    "# MODEL: Multi-layer Perceptron aka neural network\n",
    "\n",
    "# # nn 6:\n",
    "nn_6 = neural_network.MLPClassifier(max_iter=1000, activation='logistic', hidden_layer_sizes=(200, ))\n",
    "\n",
    "print(nn_6)\n",
    "nn_6.fit(data_train, y_train)\n",
    "\n",
    "nn_6_performance = BinaryClassificationPerformance(nn_6.predict(data_train), y_train, 'nn-200')\n",
    "nn_6_performance.compute_measures()\n",
    "nn_6_performance.performance_measures['set'] = 'train'\n",
    "print('TRAINING SET: ')\n",
    "print(nn_6_performance.performance_measures)\n",
    "\n",
    "nn_6_performance_test = BinaryClassificationPerformance(nn_6.predict(data_test), y_test, 'nn-200_test')\n",
    "nn_6_performance_test.compute_measures()\n",
    "nn_6_performance_test.performance_measures['set'] = 'test'\n",
    "print('TEST SET: ')\n",
    "print(nn_6_performance_test.performance_measures)\n",
    "\n",
    "nn_6_performance_test.img_indices()\n",
    "nn_6_img_indices_to_view = nn_6_performance_test.image_indices\n"
   ]
  },
  {
   "cell_type": "markdown",
   "metadata": {},
   "source": [
    "### Iteration 7"
   ]
  },
  {
   "cell_type": "code",
   "execution_count": null,
   "metadata": {},
   "outputs": [],
   "source": [
    "# MODEL: Multi-layer Perceptron aka neural network\n",
    "\n",
    "# # nn 7:\n",
    "nn_7 = neural_network.MLPClassifier(max_iter=1000, activation='logistic', hidden_layer_sizes=(32, 16, 4))\n",
    "\n",
    "print(nn_7)\n",
    "nn_7.fit(data_train, y_train)\n",
    "\n",
    "nn_7_performance = BinaryClassificationPerformance(nn_7.predict(data_train), y_train, 'nn-32-16-4')\n",
    "nn_7_performance.compute_measures()\n",
    "nn_7_performance.performance_measures['set'] = 'train'\n",
    "print('TRAINING SET: ')\n",
    "print(nn_7_performance.performance_measures)\n",
    "\n",
    "nn_7_performance_test = BinaryClassificationPerformance(nn_7.predict(data_test), y_test, 'nn-32-16-4_test')\n",
    "nn_7_performance_test.compute_measures()\n",
    "nn_7_performance_test.performance_measures['set'] = 'test'\n",
    "print('TEST SET: ')\n",
    "print(nn_7_performance_test.performance_measures)\n",
    "\n",
    "nn_7_performance_test.img_indices()\n",
    "nn_7_img_indices_to_view = nn_7_performance_test.image_indices\n"
   ]
  },
  {
   "cell_type": "markdown",
   "metadata": {},
   "source": [
    "### Iteration 8"
   ]
  },
  {
   "cell_type": "code",
   "execution_count": null,
   "metadata": {},
   "outputs": [],
   "source": [
    "# MODEL: Multi-layer Perceptron aka neural network\n",
    "\n",
    "# # nn 8:\n",
    "nn_8 = neural_network.MLPClassifier(max_iter=1000, activation='logistic', hidden_layer_sizes=(256, 256))\n",
    "\n",
    "print(nn_8)\n",
    "nn_8.fit(data_train, y_train)\n",
    "\n",
    "nn_8_performance = BinaryClassificationPerformance(nn_8.predict(data_train), y_train, 'nn-256-256')\n",
    "nn_8_performance.compute_measures()\n",
    "nn_8_performance.performance_measures['set'] = 'train'\n",
    "print('TRAINING SET: ')\n",
    "print(nn_8_performance.performance_measures)\n",
    "\n",
    "nn_8_performance_test = BinaryClassificationPerformance(nn_8.predict(data_test), y_test, 'nn-256-256_test')\n",
    "nn_8_performance_test.compute_measures()\n",
    "nn_8_performance_test.performance_measures['set'] = 'test'\n",
    "print('TEST SET: ')\n",
    "print(nn_8_performance_test.performance_measures)\n",
    "\n",
    "nn_8_performance_test.img_indices()\n",
    "nn_8_img_indices_to_view = nn_8_performance_test.image_indices\n"
   ]
  },
  {
   "cell_type": "markdown",
   "metadata": {},
   "source": [
    "# look at examples of neural network classifications"
   ]
  },
  {
   "cell_type": "markdown",
   "metadata": {},
   "source": [
    "## true positives"
   ]
  },
  {
   "cell_type": "code",
   "execution_count": null,
   "metadata": {
    "scrolled": true
   },
   "outputs": [],
   "source": [
    "# performance_examples('TP', nn_img_indices_to_view)"
   ]
  },
  {
   "cell_type": "markdown",
   "metadata": {},
   "source": [
    "## false positives"
   ]
  },
  {
   "cell_type": "code",
   "execution_count": null,
   "metadata": {
    "scrolled": true
   },
   "outputs": [],
   "source": [
    "# performance_examples('FP', nn_img_indices_to_view)"
   ]
  },
  {
   "cell_type": "markdown",
   "metadata": {},
   "source": [
    "## false negatives"
   ]
  },
  {
   "cell_type": "code",
   "execution_count": null,
   "metadata": {
    "scrolled": true
   },
   "outputs": [],
   "source": [
    "# performance_examples('FN', nn_img_indices_to_view)"
   ]
  },
  {
   "cell_type": "code",
   "execution_count": null,
   "metadata": {},
   "outputs": [],
   "source": [
    "fits = [nnd_performance, nn_1_performance, nn_2_performance, nn_3_performance, nn_4_performance,\n",
    "        nn_5_performance, nn_6_performance, nn_7_performance, nn_8_performance,\n",
    "       nnd_performance_test, nn_1_performance_test, nn_2_performance_test, nn_3_performance_test,\n",
    "        nn_4_performance_test, nn_5_performance_test, nn_6_performance_test, nn_7_performance_test, \n",
    "        nn_8_performance_test]"
   ]
  },
  {
   "cell_type": "markdown",
   "metadata": {},
   "source": [
    "# comparisons"
   ]
  },
  {
   "cell_type": "code",
   "execution_count": null,
   "metadata": {},
   "outputs": [],
   "source": [
    "# list of fits to compare: \n",
    "final_fits = []\n",
    "\n",
    "for fit in fits:\n",
    "    final_fits.append(fit.performance_measures)\n"
   ]
  },
  {
   "cell_type": "code",
   "execution_count": null,
   "metadata": {},
   "outputs": [],
   "source": [
    "final_fits"
   ]
  },
  {
   "cell_type": "code",
   "execution_count": null,
   "metadata": {},
   "outputs": [],
   "source": [
    "plt.figure(figsize=(10,10))\n",
    "\n",
    "for fit in final_fits:\n",
    "    if fit['set'] == 'train':\n",
    "        color = 'co'\n",
    "    else:\n",
    "        color = 'ro'\n",
    "            \n",
    "    plt.plot(fit['FP'] / fit['Neg'], \n",
    "             fit['TP'] / fit['Pos'], color, markersize=12, label=fit['desc'])\n",
    "    plt.text(fit['FP'] / fit['Neg'], \n",
    "             fit['TP'] / fit['Pos'], fit['desc'] + ': ' + fit['set'], fontsize=16)\n",
    "    \n",
    "    print(fit['desc'] + ': ')\n",
    "    print(fit)\n",
    "\n",
    "plt.axis([0, 1, 0, 1])\n",
    "plt.title('ROC plot: all iterations')\n",
    "plt.xlabel('False positive rate')\n",
    "plt.ylabel('True positive rate')\n",
    "plt.legend()\n",
    "\n",
    "plt.show()\n"
   ]
  },
  {
   "cell_type": "code",
   "execution_count": null,
   "metadata": {},
   "outputs": [],
   "source": [
    "def plot_grouped_bars(measure, bar_limit=[0, 1]):\n",
    "    # Grouped bar chart comparing training and test set\n",
    "    accuracy_train = []\n",
    "    accuracy_test = []\n",
    "    description = []\n",
    "\n",
    "    for fit in final_fits:\n",
    "        print(fit['desc'])\n",
    "        if fit['set'] == 'train':\n",
    "            accuracy_train.append(fit[measure])\n",
    "            description.append(fit['desc'])\n",
    "        else:\n",
    "            accuracy_test.append(fit[measure])\n",
    "\n",
    "            \n",
    "    width = 0.3\n",
    "    x = np.arange(len(description))\n",
    "\n",
    "    fig = plt.figure(figsize=[10, 3])\n",
    "    ax = fig.add_axes([0,0,1,1])\n",
    "\n",
    "    plt.grid()\n",
    "\n",
    "    ax.bar(x, accuracy_train, color='b', width=width, label=\"training\")\n",
    "    ax.bar(x + width, accuracy_test, color='g', width=width, label=\"test\")\n",
    "\n",
    "    ax.set_ylabel(measure)\n",
    "    ax.set_xlabel('hidden_layers')\n",
    "\n",
    "    ax.set_title('MLPClassifier Training VS Test set performance - ' + measure)\n",
    "\n",
    "    ax.set_xticks(x + width / 2)\n",
    "    ax.set_xticklabels(description)\n",
    "    ax.legend(loc='center left', bbox_to_anchor=(1, 0.5))\n",
    "\n",
    "    \n",
    "    # make axes 0 to 1\n",
    "    ax.set_ylim(bottom=bar_limit[0])\n",
    "    ax.set_ylim(top=bar_limit[1])\n",
    "\n",
    "    title = 'train_test_bars'\n",
    "\n",
    "    # image_path = 'plot_images/03/' + title + '.png'\n",
    "    # fig.savefig(image_path, dpi=fig.dpi)\n",
    "\n",
    "    plt.show()"
   ]
  },
  {
   "cell_type": "code",
   "execution_count": null,
   "metadata": {},
   "outputs": [],
   "source": [
    "plot_grouped_bars(\"Accuracy\", [0.9, 1])"
   ]
  },
  {
   "cell_type": "code",
   "execution_count": null,
   "metadata": {},
   "outputs": [],
   "source": [
    "plot_grouped_bars(\"Accuracy\")"
   ]
  },
  {
   "cell_type": "code",
   "execution_count": null,
   "metadata": {},
   "outputs": [],
   "source": [
    "plot_grouped_bars(\"Precision\", [0.9, 1])"
   ]
  },
  {
   "cell_type": "code",
   "execution_count": null,
   "metadata": {},
   "outputs": [],
   "source": [
    "plot_grouped_bars(\"Precision\")"
   ]
  }
 ],
 "metadata": {
  "kernelspec": {
   "display_name": "Python 3",
   "language": "python",
   "name": "python3"
  },
  "language_info": {
   "codemirror_mode": {
    "name": "ipython",
    "version": 3
   },
   "file_extension": ".py",
   "mimetype": "text/x-python",
   "name": "python",
   "nbconvert_exporter": "python",
   "pygments_lexer": "ipython3",
   "version": "3.7.0"
  }
 },
 "nbformat": 4,
 "nbformat_minor": 2
}
