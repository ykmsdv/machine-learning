{
 "cells": [
  {
   "cell_type": "code",
   "execution_count": 1,
   "metadata": {},
   "outputs": [],
   "source": [
    "import numpy as np\n",
    "import pandas as pd\n",
    "import matplotlib.pyplot as plt\n",
    "%matplotlib inline"
   ]
  },
  {
   "cell_type": "code",
   "execution_count": 2,
   "metadata": {},
   "outputs": [],
   "source": [
    "raw_data = pd.read_json('food_enforcement_US_bacteria.json', orient='records')"
   ]
  },
  {
   "cell_type": "code",
   "execution_count": 6,
   "metadata": {
    "scrolled": true
   },
   "outputs": [
    {
     "name": "stdout",
     "output_type": "stream",
     "text": [
      "(6104, 26)\n",
      "0    Native Catch Salmon Bacon, Traditional flavor....\n",
      "1    Delish Fruit Burst 10 oz.(283 g)  Enjoy by: 8/...\n",
      "2    Garden Pure Holiday Fruit Bowl 4 lbs (1.81kg) ...\n",
      "3    Fresh Fruit Product is labeled in part:  \"***F...\n",
      "4    Ready Pac¿ Gourmet Fruit Bowl, 64oz , UPC 7774...\n",
      "5    River Ranch brand Diced Grn Cabbage w/Color, 4...\n",
      "6    Sweet and Sour Stir Fry packaged under the fol...\n",
      "7    Onion Slab Cut.  Products are labeled in part:...\n",
      "8    MIX w/yellow onions used as an ingredient.  Pr...\n",
      "9    Fresh n Easy brand Shred Grn Cabbage w/Color, ...\n",
      "Name: product_description, dtype: object\n"
     ]
    }
   ],
   "source": [
    "print(raw_data.shape)\n",
    "print(raw_data.head(10).product_description)"
   ]
  },
  {
   "cell_type": "markdown",
   "metadata": {},
   "source": [
    "### Bag of words feature representation for descriptive text"
   ]
  },
  {
   "cell_type": "code",
   "execution_count": 7,
   "metadata": {},
   "outputs": [
    {
     "data": {
      "text/plain": [
       "(6104, 13767)"
      ]
     },
     "execution_count": 7,
     "metadata": {},
     "output_type": "execute_result"
    }
   ],
   "source": [
    "from sklearn.feature_extraction.text import CountVectorizer\n",
    "vectorizer = CountVectorizer()\n",
    "\n",
    "corpus = raw_data['product_description']\n",
    "X = vectorizer.fit_transform(corpus)\n",
    "X.shape"
   ]
  },
  {
   "cell_type": "markdown",
   "metadata": {},
   "source": [
    "### fit Kmeans"
   ]
  },
  {
   "cell_type": "code",
   "execution_count": 8,
   "metadata": {},
   "outputs": [
    {
     "data": {
      "text/plain": [
       "KMeans(algorithm='auto', copy_x=True, init='k-means++', max_iter=300,\n",
       "       n_clusters=50, n_init=30, n_jobs=None, precompute_distances='auto',\n",
       "       random_state=None, tol=0.0001, verbose=0)"
      ]
     },
     "execution_count": 8,
     "metadata": {},
     "output_type": "execute_result"
    }
   ],
   "source": [
    "#fit Kmeans with k clusters\n",
    "from sklearn.cluster import KMeans\n",
    "km = KMeans(n_clusters=50,n_init=30)\n",
    "km.fit(X)"
   ]
  },
  {
   "cell_type": "code",
   "execution_count": 9,
   "metadata": {},
   "outputs": [
    {
     "data": {
      "text/plain": [
       "KMeans(algorithm='auto', copy_x=True, init='k-means++', max_iter=300,\n",
       "       n_clusters=50, n_init=60, n_jobs=None, precompute_distances='auto',\n",
       "       random_state=None, tol=0.0001, verbose=0)"
      ]
     },
     "execution_count": 9,
     "metadata": {},
     "output_type": "execute_result"
    }
   ],
   "source": [
    "#fit Kmeans with k clusters\n",
    "from sklearn.cluster import KMeans \n",
    "corpus2 = raw_data['reason_for_recall']\n",
    "y = vectorizer.fit_transform(corpus2)\n",
    "km2 = KMeans(n_clusters=50,n_init=60)\n",
    "km2.fit(X)"
   ]
  },
  {
   "cell_type": "markdown",
   "metadata": {},
   "source": [
    "### labels are named with integers and stored in the `labels_` attribute"
   ]
  },
  {
   "cell_type": "code",
   "execution_count": 10,
   "metadata": {},
   "outputs": [
    {
     "data": {
      "text/plain": [
       "array([29, 22,  2, ...,  2, 36, 36], dtype=int32)"
      ]
     },
     "execution_count": 10,
     "metadata": {},
     "output_type": "execute_result"
    }
   ],
   "source": [
    "km.labels_"
   ]
  },
  {
   "cell_type": "code",
   "execution_count": 11,
   "metadata": {},
   "outputs": [
    {
     "data": {
      "text/plain": [
       "array([36, 16,  0, ...,  0,  8, 45], dtype=int32)"
      ]
     },
     "execution_count": 11,
     "metadata": {},
     "output_type": "execute_result"
    }
   ],
   "source": [
    "km2.labels_"
   ]
  },
  {
   "cell_type": "code",
   "execution_count": 12,
   "metadata": {},
   "outputs": [
    {
     "name": "stdout",
     "output_type": "stream",
     "text": [
      "6104\n"
     ]
    }
   ],
   "source": [
    "print(len(km.labels_))"
   ]
  },
  {
   "cell_type": "code",
   "execution_count": 13,
   "metadata": {},
   "outputs": [
    {
     "name": "stdout",
     "output_type": "stream",
     "text": [
      "6104\n"
     ]
    }
   ],
   "source": [
    "print(len(km2.labels_))"
   ]
  },
  {
   "cell_type": "markdown",
   "metadata": {},
   "source": [
    "### take a look at one of the cluster results"
   ]
  },
  {
   "cell_type": "code",
   "execution_count": 14,
   "metadata": {},
   "outputs": [
    {
     "name": "stdout",
     "output_type": "stream",
     "text": [
      "Fresh Frozen Grade A Speckled Butter Beans, Net Wt. 32 oz. (2 lb.) 907 g. Dist. By Fresh Frozen Foods, Inc., Jefferson, GA 30549, UPC 0-86069-20000-1; Fresh Frozen Grade A Specked Butter Beans, Net Wt. 80 Oz. (5 lb.) 2268g, Dist. By Fresh Frozen Foods, Inc., Jefferson, GA 30549,UPC 0-86069-50000-2; Fresh Frozen Speckled Butter Beans, Net Wt. 16 oz. (1 lb.) 454 g, UPC 0-86069-20001-8\n",
      "**********\n",
      "Fresh Frozen Grade A Whole Okra, Net Wt. 32 Oz. (2 lb.) 907g. Dist. By Fresh Frozen Foods, Inc., Jefferson, GA 30549, UPC 0-86069-20350-7, Fresh Frozen Grade A Whole Okra, Net Wt. 80 Oz. (5 Lb.) 2268g, Dist. By Fresh Frozen Foods, Inc., Jefferson, GA 30549, Fresh Frozen Whole Okra, Net Wt. 16 Oz. (1 Lb.) 454g, UPC 0-86069-20351-4\n",
      "**********\n",
      "Fresh Frozen Grade A Crowder Peas, Net Wt. 32 oz. (2 lb.) 907g. Dist. By Fresh Frozen Foods, Inc., Jefferson, GA 30549, UPC 0-86069-20030-8; Fresh Frozen Grade A Crowder Peas,  Net Wt. 80 Oz. (5 lb.) 2268g, Dist. By Fresh Frozen Foods, Inc., Jefferson, GA 30549, UPC 0-86069-50030-9\n",
      "**********\n",
      "Fresh Frozen Chopped Spinach, Net. Wt. 12 Oz., Dist. By Fresh Frozen Foods, Inc., Jefferson, GA 30549, UPC 0-86069-25091-4, Fresh  Frozen Grade A Chopped Spinach, Net Wt. 32 Oz. (2 Lb.), Dist. Grade A Broccoli Cuts, Net Wt. 32 Oz, (2 Lb.) 907g, Dist. By Fresh Frozen Foods, Inc., Jefferson, GA 30549, UPC 0-86069-25090-7\n",
      "**********\n",
      "Fresh Frozen Grade A Cut White Corn, Net Wt. 32 Oz, (2 Lb.) 907g, Dist. By Fresh Frozen Foods, Inc., Jefferson, GA 30549, UPC 0-86069-20102-2, Fresh Frozen Grade A Cut White Corn, Net Wt. 80 Oz. (5 Lb.) Dist. By Fresh Frozen Foods, Inc., Jefferson, GA 30549, UPC 0-86069-50102-3\n",
      "**********\n",
      "Fresh Frozen Grade A Green Peas, Net Wt. 32 oz. (2 lb.) 907g. Dist. By Fresh Frozen Foods, Inc., Jefferson, GA 30549, UPC 0-86069-20061-2; Fresh Frozen Grade A Green Peas, Net Wt. 80 Oz. (5 Lb.) 2268g, Dist. By Fresh Frozen Foods, Inc., Jefferson, GA 30549, UPC 0-086069-50060-6, Steamables Green Peas Beans, Net Wt. 12 Oz , UPC 0-86069-11210-6\n",
      "**********\n",
      "Fresh Frozen Grade A Diced Vidalia Onions, Net Wt. 32 Oz, (2 Lb.) 907g, Dist. By Fresh Frozen Foods, Inc., Jefferson, GA 30549, UPC 0-86069-20500-6, Fresh Frozen Chopped Vidalia Onions, Net Wt. 12 Oz., Dist. By Fresh Frozen Foods, Inc., Jefferson, GA 30549, UPC 0-86069-10530-6, Fresh Frozen Diced Onions, 2 Lb., Dist. By Fresh Frozen Foods, Inc., Jefferson, GA 30549 (no UPC)\n",
      "**********\n",
      "Fresh Frozen Grade A Cut Okra, Net Wt. 32 oz. (2 lb.) 907g. Dist. By Fresh Frozen Foods, Inc., Jefferson, GA 30549, UPC 0-86069-20070-4, Fresh Frozen Grade A Cut Okra, Net Wt. 80 Oz. (5 Lb) 2268g, Dist. By Fresh Frozen Foods, Inc., Jefferson, GA 30549, UPC 0-86069-50240-2, Fresh Frozen Cut Okra, Net. Wt. 16 Oz. (1 Lb) 454g, UPC 86069-20071-1, The Inn Grade A Fancy Cut Okra, Net Wt. 48 Oz. (3 Lb) (1361g), Packed for Inn Foods Inc., 310 Walker St., Watsonville, CA 950076, UPC 0-86289-20139-0  \n",
      "**********\n",
      "Fresh Frozen Grade A Cut Green Beans, Net Wt. 32 oz. (2 lb.) 907g. Dist. By Fresh Frozen Foods, Inc., Jefferson, GA 30549, UPC 0-86069-20020-9; Fresh Frozen Grade A Cut Green Beans,  Net Wt. 80 Oz. (5 lb.) 2268g, Dist. By Fresh Frozen Foods, Inc., Jefferson, GA 30549, UPC 0-86069-50020-0; Fresh Frozen Cut Green Beans, Net. Wt. 16 Oz. (1 lb.) 454 g, UPC 0-86069-20021-6, Steamables Cut Green Beans, Net. Wt. 12 Oz., Distributed By Fresh Frozen Foods, Jefferson, GA 30549, UPC 0-86069-11200-7\n",
      "**********\n",
      "Fresh Frozen Grade A Butter Peas, Net Wt. 32 oz. (2 lb.) 907g. Dist. By Fresh Frozen Foods, Inc., Jefferson, GA 30549, UPC 0-86069-20060-5; Fresh Frozen Butterpeas, Net Wt. 16 Oz (1 lb) 454g, UPC 0-86069-20063-6\n",
      "**********\n",
      "Fresh Frozen Grade A Butter Beans, Net Wt. 32 oz. (2 lb.) 907g. Dist. By Fresh Frozen Foods, Inc., Jefferson, GA 30549, UPC 0-86069-20005-6; Fresh Frozen Butter Beans, Net Wt. 16 Oz (1 lb) 454g, UPC 0-86069-20006-3\n",
      "**********\n",
      "Fresh Frozen Yam Patties, Net Wt. 2 Lb., Dist. By Fresh Frozen Foods, Inc., Jefferson, GA 30549, UPC 0-86069-20120-6, Fresh Frozen Sweet Potato Cuts, Net Wt. 28 Oz., Dist. By Fresh Frozen Foods, Inc., Jefferson, GA 30549, UPC 0-86069-20112-1\n",
      "**********\n",
      "Fresh Frozen Grade A Summer Blend, Net Wt. 32 Oz. (2 Lb.) 907g, Dist. By Fresh Frozen Foods, Inc., Jefferson, GA 30549, UPC 0-86069-20330-9, Steamables Summer Blend, Net Wt. 12 Oz. (340.8g), Dist. By Fresh Frozen Foods, Inc., Jefferson, GA 30549, UPC 0-86069-11280-9 \n",
      "**********\n",
      "Fresh Frozen Grade A Purple Hull Peas, Net Wt. 32 oz. (2 lb.) 907g. Dist. By Fresh Frozen Foods, Inc., Jefferson, GA 30549, UPC 0-86069-20041-4; Fresh Frozen Grade A Purple Hull Peas,  Net Wt. 80 Oz. (5 lb.) 2268g, Dist. By Fresh Frozen Foods, Inc., Jefferson, GA 30549, UPC 0-86069-50041-5\n",
      "**********\n",
      "Fresh Frozen Grade A Stew Mix, Net Wt. 32 Oz. (2 Lb.) 907g, Dist. By Fresh Frozen Foods, Inc., Jefferson, GA 30549, UPC 0-86069-21270-7, Fresh Frozen Stew Mix, Net Wt. 16 Oz. (1 Lb.) 454g, Dist. By Fresh Frozen Foods, Inc., Jefferson, GA 30549, UPC 0-86069-21271-4\n",
      "**********\n",
      "Fresh Frozen Grade A Vegetable Gumbo, Net Wt. 32 Oz. (2 Lb.) 907g, Dist. By Fresh Frozen Foods, Inc., Jefferson, GA 30549, UPC 0-86069-20150-3, Fresh Frozen Vegetable Gumbo, Net Wt. 16 Oz. (1 Lb.), Dist. By Fresh Frozen Foods, Inc., Jefferson, GA 30549, UPC 0-86069-20151-0 \n",
      "**********\n",
      "Fresh Frozen Grade A Blackeye Peas, Net Wt. 32 oz. (2 lb.) 907g. Dist. By Fresh Frozen Foods, Inc., Jefferson, GA 30549, UPC 0-86069-20040-7; Fresh Frozen Grade A Blackeye Peas,  Net Wt. 80 Oz. (5 lb.) 2268g, Dist. By Fresh Frozen Foods, Inc., Jefferson, GA 30549, UPC 0-86069-50040-8, Fresh Frozen Blackeye Peas, Net Wt. 16 Oz. (1 lb) 454 g, UPC 0-86069-20043-8\n",
      "**********\n",
      "Fresh Frozen Diced Red Pepper, Net Wt. 2 Lb., Dist. By Fresh Frozen Foods, Inc., Jefferson, GA 30549, (no UPC), Fresh Frozen Diced Green Pepper, Net Wt. 2 Lb., Dist. By Fresh Frozen Foods, Inc., Jefferson, GA 30549 (no UPC)\n",
      "**********\n",
      "Fresh Frozen Grade A Sliced Squash, Net Wt. 32 Oz, (2 Lb.) 907g, Dist. By Fresh Frozen Foods, Inc., Jefferson, GA 30549, UPC 0-86069-20300-2, Fresh Frozen Sliced Squash, Net. Wt. 80 Oz., (5 Lb.), Dist. By Fresh Frozen Foods, Jefferson, GA 30549, UPC 0-86069-50300-3, Fresh Frozen Sliced Yellow Squash, Net Wt. 16 Oz. (1 Lb.) Dist. By Fresh Frozen Foods, Inc., Jefferson, GA 30549, UPC 0-86069-20301-9\n",
      "**********\n",
      "Fresh Frozen Chopped Mustard Greens, Net Wt. 16 Oz, (1 Lb.) 454g, Dist. By Fresh Frozen Foods, Inc., Jefferson, GA 30549, UPC 0-86069-25070-9, Fresh Frozen Mustard Greens, Net. Wt. 32 Oz.. (2 Lb.), Dist. By Fresh Frozen Foods, Inc., Jefferson, GA 39549, UPC 0-86069-25071-6\n",
      "**********\n",
      "Fresh Frozen Grade A Broccoli Cuts, Net Wt. 32 Oz, (2 Lb.) 907g, Dist. By Fresh Frozen Foods, Inc., Jefferson, GA 30549, UPC 0-86069-20140-4, Fresh Frozen Grade A Broccoli Cuts, Net. Wt. 60 Oz. (5 Lb.) 2268g, Dist. By Fresh Frozen Foods, Inc., Jefferson, GA 30549, UPC 0-86069-50140-5, Fresh Frozen Broccoli Cuts, Net Wt.16 Oz. (1 Lb.) 454g, Dist. By Fresh Frozen Foods, Inc., Jefferson, GA 30549, UPC 0-86069-20142-8\n",
      "**********\n",
      "Steamables California Blend, Net Wt. 10 Oz., Dist. By Fresh Frozen Foods, Inc., Jefferson, GA 30549, UPC 0-86069-11275-5,  Fresh Frozen California Blend, Net Wt. 16 Oz. (1 Lb.), Dist. By Fresh Frozen Foods, Inc., Jefferson, GA 30549, UPC 86069-20013-1, Fresh Frozen Grade A California Blend, Net. Wt. 32 Oz. (2 Lb.), Dist. By Fresh Frozen Foods, Jefferson, GA 30549, UPC 0-86069-20011-7, Fresh Frozen Grade A California Blend, Net Wt. 80 Oz. (5 Lb.) 2268g, Dist. By Fresh Frozen Foods, Jefferson, GA 30549, UPC 86069-50011-8, Fresh Frozen Grade A Premium California Blend, Net Wt. 32 Oz. (2 Lb.) 907g, Dist. By Fresh Frozen Foods, Inc., Jefferson, GA 30549, UPC 86069-20014-8, The Inn Grade A Fancy California Blend, Net Wt. 32 Oz. (2 LB) (907g), Packed For Inn Foods Inc., 310 Walker St., Watsonville, CA 95076, UPC 86289-20420-9 \n",
      "**********\n",
      "Steamables Mixed Vegetables, Net. Wt. 12 Oz., Dist. By Fresh Frozen Foods, Inc., Jefferson, GA 30549, UPC 0-86069-11270-0, Fresh Frozen Mixed Vegetables, Net Wt. 16 Oz. (1 Lb.) 454g, Dist. by Fresh Frozen Foods, Inc., Jefferson, GA 30549, UPC 0-86069-20081-0, Fresh Frozen Grade A Mixed Vegetables, Net Wt. 80 Oz. (5 Lb.) 2268g, Dist. By Fresh Frozen Foods, Inc., Jefferson, GA 30549, UPC 86069-50080-4, Fresh Frozen Grade A Mixed Vegetables, Net Wt. 32 Oz. (2 Lb.) 907g, Dist. By Fresh Frozen Foods, Inc., Jefferson, GA 30549, UPC 86069-20080-3 \n",
      "**********\n",
      "3\" Corn on Cob 96 Ct., Dist. By Fresh Frozen Foods, Inc., Jefferson, GA 30549, Fresh Frozen Grade A Corn-on-Cob,  Net Wt. 32 Oz, (2 Lb.) 907g, UPC 0-86069-20200-5, Fresh Frozen Grade A Corn-on-Cobb, Net Wt. 80 Oz. (5 Lb.), Dist. By  Fresh Frozen Foods, Inc., Jefferson, GA 30549, UPC 0-86069-50250-1, Corn on Cobb 8 Count, Dist. By Fresh Frozen Foods, Inc., Jefferson, GA 30549 UPC 0-86069070100-3\n",
      "**********\n",
      "Fresh Frozen Grade A Seasoning Blend, Net Wt. 32 Oz. (2 Lb.) 907g, Dist. By Fresh Frozen Foods, Inc., Jefferson, GA 30549, UPC 0-86069-20430-4, Fresh Frozen Grade A Seasoning Blend, Net Wt. 80 Oz. (5 Lb.) 2268g, Dist. By Fresh Frozen Foods, Inc., Jefferson, GA 30549, UPC 0-86069020432-0, Fresh Frozen Seasoning Blend, Net Wt. 16 Oz. (1 Lb.) 454g, Dist. By Fresh Frozen Foods,  Inc., Jefferson, GA 30549, UPC 0-86069-20431-3\n",
      "**********\n",
      "Fresh Frozen Grade A Sliced Carrots, Net Wt. 32 Oz, (2 Lb.) 907g, Dist. By Fresh Frozen Foods, Inc., Jefferson, GA 30549, UPC 0-86069-20295-1, Fresh Frozen Sliced Carrots, Net Wt. 20 Lb., Dist. By Fresh Frozen Foods, Inc., Jefferson, GA 30549, Fresh Frozen Sliced Carrots, Net. Wt. 16 Oz. (1 Lb.) 454g, Dist. By Fresh Frozen Foods, Inc., Jefferson, GA 30549, UPC 0-86069-20296-8\n",
      "**********\n",
      "Fresh Frozen Grade A Cut Yellow Corn, Net Wt. 32 Oz. (2 Lb.) 907g. Dist. By Fresh Frozen Foods, Inc., Jefferson, GA 30549, UPC 0-86069-20100-8, Fresh Frozen Grade A Cut Corn, Net Wt. 80 Oz. (5 Lb.) 2268g , Dist. By Fresh Frozen Foods, Inc., Jefferson, GA 30549, UPC 0-86069-50100-9, Fresh Frozen Cut Yellow Corn, Net Wt. 16 Oz. (1 Lb.) 454 g, UPC 0-86069-20101-5,  Steamable Cut Yellow Corn, Net Wt. 12 Oz., Dist. By Fresh Frozen Foods, Jefferson, GA 30354 UPC 0-86069-11230-4\n",
      "**********\n",
      "Fresh Frozen Grade A Baby Lima Beans, Net Wt. 32 oz. (2 lb.) 907 g. Dist. By Fresh Frozen Foods, Inc., Jefferson, GA 30549, UPC 0-86069-20010-0; Fresh Frozen Grade A Baby Lima Beans,  Net Wt. 80 Oz. (5 lb.) 2268g, Dist. By Fresh Frozen Foods, Inc., Jefferson, GA 30549, UPC 0-86069-50010-1; Fresh Frozen Baby Lima Beans, Net Wt. 16 oz. (1 lb.) 454 g, UPC 0-86069-20012-4, Fresh Frozen Fordhook Lima Beans, Net Wt. 24 Oz., Dist. By Fresh Frozen Foods, Inc., Jefferson, GA 30549, UPC 0-86069-20016-2\n",
      "**********\n",
      "Fresh Frozen Grade A Italian Blend, Net Wt. 32 Oz. (2 Lb.) 907g, Dist. By Fresh Frozen Foods, Inc., Jefferson, GA 30549, UPC 0-86069-20285-2, Steamables Italian Blend, Net Wt. 10 Oz., Dist. By Fresh Frozen Foods, Inc., Jefferson, GA 30549, UPC 0-86069-11290-8\n",
      "**********\n",
      "Fresh Frozen Grade A Field Peas with Snaps, Net Wt. 32 oz. (2 lb.) 907g. Dist. By Fresh Frozen Foods, Inc., Jefferson, GA 30549, UPC 0-86069-20050-6; Fresh Frozen Grade A Field Peas with Snaps,  Net Wt. 80 Oz. (5 lb.) 2268g, Dist. By Fresh Frozen Foods, Inc., Jefferson, GA 30549, UPC 0-86069-50050-7, Fresh Frozen Field Peas with Snaps, Net Wt. 16 Oz (1 lb) 454g, UPC 0-86069-20051-3\n",
      "**********\n",
      "Fresh Frozen Grade A Peas and Carrots, Net Wt. 32 oz. (2 lb.) 907g. Dist. By Fresh Frozen Foods, Inc., Jefferson, GA 30549, UPC 0-86069-20290-6; Fresh Frozen Grade A Peas and Carrots, Net Wt. 80 Oz. (5 Lb.) 2268g, Dist. By Fresh Frozen Foods, Inc., Jefferson, GA 30549, UPC 0-086069-50290-7\n",
      "**********\n",
      "Fresh Frozen Chopped Turnip Greens with Diced Turnips, Net Wt. 16 Oz. (454g), Dist. By Fresh Frozen Foods, Inc., Jefferson, GA 30549, UPC 0-86069-25061-7, Fresh Frozen Grade A Chopped Turnip Greens and Diced Turnips, Net Wt. 32 Oz. (2 Lb.) 908.8g, Dist. By Fresh Frozen Foods, Inc., Jefferson, GA 30549, UPC 0-86069-250060-0, IQF Turnip Greens, Net Wt. 2 Lb., Dist. By Fresh Frozen Foods, Inc., Jefferson, GA 30549, UPC 0-86069-25050-1, Fresh Frozen Turnip Greens, Net Wt. 1 Lb., Dist. By Fresh Frozen Foods, Inc, Jefferson, GA 30549, UPC 0-86069-25051-8\n",
      "**********\n",
      "Fresh Frozen Grade A Breaded Okra, Net Wt. 32 oz. (2 lb.) 907g. Dist. By Fresh Frozen Foods, Inc., Jefferson, GA 30549, UPC 0-86069-20075-9, Fresh Frozen Grade A Breaded Okra, Net Wt. 80 Oz. (5 Lb) 2268g, Dist. By Fresh Frozen Foods, Inc., Jefferson, GA 30549, UPC 0-86069-50075-0, Fresh Frozen Breaded Okra, Net. Wt. 16 Oz. (1 Lb) 454g, UPC 86069-20076-6\n",
      "**********\n",
      "Fresh Frozen Grade A Italian Green Beans, Net Wt. 32 oz. (2 lb.) 907g. Dist. By Fresh Frozen Foods, Inc., Jefferson, GA 30549, UPC 0-86069-20340-8; Fresh Frozen Grade A Italian Green Beans,  Net Wt. 80 Oz. (5 lb.) 2268g, Dist. By Fresh Frozen Foods, Inc., Jefferson, GA 30549, UPC 0-86069-50340-9; Fresh Frozen Italian Green Beans, Net. Wt. 16 Oz. (1 lb.) 454g, UPC 0-86069-20341-5\n",
      "**********\n",
      "Fresh Frozen Grade A Brussels Sprouts, Net Wt. 32 Oz, (2 Lb.) 907g, Dist. By Fresh Frozen Foods, Inc., Jefferson, GA 30549, UPC 0-86069-20355-2, Fresh Frozen Brussels Sprouts, Net Wt. 16 Oz. (1 Lb.) 454g, Dist. By Fresh Frozen Foods, Inc., Jefferson, GA 30549, UPC 0-86069-20356-9\n",
      "**********\n"
     ]
    }
   ],
   "source": [
    "# You should look at all the clusters, but let's look at cluster \"15\" (I chose this arbitrarily; you should look at all of them)\n",
    "\n",
    "for i in range(0,len(km.labels_)):\n",
    "    if km.labels_[i] == 15:\n",
    "        print(raw_data['product_description'][i])\n",
    "        print('**********')"
   ]
  },
  {
   "cell_type": "code",
   "execution_count": 15,
   "metadata": {},
   "outputs": [
    {
     "name": "stdout",
     "output_type": "stream",
     "text": [
      "13.5 ounce Gold Medal Wondra   Case UPC\t000-16000-42476  Package UPC\t000-16000-18980  Recalled Better If Used By Dates\t25FEB2017PK, 26FEB2017PK, 27FEB2017PK, 02MAR2017PK, 03MAR2017PK, 04MAR2017PK, and 30MAR2017PK.  Expanded Recall:   Recalled Better if Used by Dates\t23FEB2017KC, 24FEB2017KC  Expanded Recall #2: 7-25-16  Recalled Better if Used by Dates\t14MAY2017PK    5 lb Safeway Signature Kitchens All Purpose Flour Enriched Bleached  Note:  Case uses BB (Best By) format, but consumer unit uses BIUB (Better/Best If Used By).  Case UPC\t100-21130-53001  Package UPC\t000-21130-53001  Recalled BIUB\tMAY 28 17    50 lb Gold Medal Hotel & Restaurant Bakers All-Purpose Enriched Flour Bleached       Unit UPC\t100-16000-14314  Code Dates/Production Dates\t19NOV5KC    Expanded: 08NOV2015KC, 09NOV2015KC, 25NOV2015KC, 02DEC2015KC, 03DEC2015KC.   \t   25 lb Gold Medal Hotel & Restaurant Bakers All-Purpose Enriched Flour Bleached  Unit UPC\t100-16000-14317  Code Dates/Production Dates\t15NOV2015KC, 16NOV2015KC, 17NOV2015KC, 18NOV2015KC, 19NOV2015KC, 20NOV2015KC,   21NOV2015KC.    Expanded: 12NOV2015KC, 13NOV2015KC, 22NOV2015KC, 25NOV2015KC, 01DEC2015KC, 02DEC2015KC, 03DEC2015KC, 04DEC2015KC, 11NOV2015KC.    25 lb Pillsbury Hotel & Restaurant All Purpose Bleached Enriched  Unit UPC\t100-18000-32666  Code Dates/Production Dates\t16NOV2015KC   \t   50 lb Pillsbury Hotel & Restaurant All Purpose Bleached Enriched  Unit UPC\t100-18000-32679  Code Dates/Production Dates\t17NOV5KC      Expanded Recall: 2 lb Signature Kitchens All Purpose Flour Enriched Bleached  Package UPC 000-21130-53000, Case UPC 100-21130-53000,  Recalled Better if Used by Dates\tBB MAY 27 2017    Expanded Recall #2 7-25-16.  Recalled Better if Used by Dates\tBB 15 AUG 2017, BB 16 AUG 2017    Expanded Recall:   10 lb Gold Medal H&R All Purpose Bleached Enriched Flour,   Unit UPC\t100-16000-14473,   Code Dates/Production Dates\t04NOV2015KC, 05NOV2015KC, 10NOV2015KC, 11NOV2015KC.    Expanded Recall:   25 lb Medallion All Purpose Flour Bleached Enriched Flour  Unit UPC\t100-16000-54425  Code Dates/Production Dates\t19NOV2015KC, 25NOV2015KC, 01DEC2015KC, 02DEC2015KC, 03DEC2015KC    Expanded Recall:\t  50 lb Wondra Enriched Flour \t  Unit UPC\t100-16000-58995  Code Dates/Production Dates\t07NOV2015KC, 08NOV2015KC, 04DEC2015KC  \t  Expanded Recall: 25 lb Pillsbury H&R All Purpose Bleached Enriched  Unit UPC\t100-18000-32666  Code Dates/Production Dates\t12NOV2015KC      Expanded Recall: \t  50 lb Sysco Classic  H&R Flour Bleached Enriched Malted (GMI Item number 52124)  Unit UPC\t34730-23936  Code Dates/Production Dates\t08NOV2015KC, 25NOV2015KC, 03DEC2015KC, 04DEC2015KC    Expanded Recall: \t  25 lb Sysco All-Purpose H&R Flour Bleached Enriched Malted (GMI item number 52125)  Unit UPC\t34730-23957  Code Dates/Production Dates\t07NOV2015KC, 14NOV2015KC    Expanded Recall:\t  25 lb  Sysco All-Purpose H&R Flour Bleached Enriched Malted (GMI Item number 52126)  Unit UPC\t34730-23958  Code Dates/Production Dates\t12NOV2015KC, 14NOV2015KC, 03DEC2015KC, 04DEC2015KC                    \n",
      "**********\n",
      "2 lb Gold Medal All Purpose Flour     Case UPC\t000-16000-10720  Package UPC\t000-16000-10710  Recalled Better If Used By Dates\t25MAY2017KC, 26MAY2017KC, 27MAY2017KC, 28MAY2017KC, 29MAY2017KC, 30MAY2017KC, 31MAY2017KC, 01JUN2017KC, 02JUN2017KC, and 03JUN2017KC    Expanded recall: 15MAY2017KC through 24MAY2017KC, 04JUN2017KC, 05JUN2017KC, 11JUN2017KC, 12JUN2017KC, 13JUN2017KC, 14JUN2017KC    Expanded recall #2: 7-25-16  Recalled Better if Used by Dates\t18JUN2017KC, 01AUG2017KC, 13AUG2017KC through 21AUG2017KC    10 lb Gold Medal All Purpose Flour\t   Case UPC\t000-16000-12410  Package UPC\t000-16000-10410  Recalled Better If Used By Dates\t02JUN2017KC,  03JUN2017KC    Expanded Recall: 16MAY2017KC through 20MAY2017KC, 05JUN2017KC  Expanded Recall: 7-25-16  Recalled Better if Used by Dates\t18JUN2017KC, 01AUG2017KC.    5 lb Gold Medal All Purpose Flour\t   Case UPC\t000-16000-12610  Package UPC\t000-16000-10610  Recalled Better If Used By Dates\t25MAY2017KC, 27MAY2017KC, 28MAY2017KC, 29MAY2017KC, 30MAY2017KC, 31MAY2017KC, 01JUN2017KC, 03JUN2017KC, 04JUN2017KC, 05JUN2017KC, 11JUN2017KC, 12JUN2017KC, 13JUN2017KC, 14JUN2017KC    Expanded Recall: 15MAY2017KC through 24MAY2017KC.    Expanded Recall #2: 7-25-16  Recalled Better if Used by Dates\t18JUN2017KC, 01AUG2017KC, 13AUG2017KC through 21AUG2017KC      10 lb Gold Medal All Purpose Flour- Banded Pack   Case UPC\t000-16000-21294  Package UPC\t000-16000-10410  Recalled Better If Used By Dates\t03JUN2017KC, 04JUN2017KC, 05JUN2017KC.    25 lb Jetro Lenz Best All Purpose Flour  Unit UPC\t60695-00295  Code Dates/Production Dates\t16NOV2015KC, 17NOV2015KC   Expanded: 13NOV2015KC, 14NOV2015KC, 04DEC2015KC  \t   50 lb Jetro Chef's Quality All Purpose Flour  Unit UPC\t60695-02575  Code Dates/Production Dates\t19NOV5KC  Expanded: 07NOV2015KC, 04NOV2015KC, 05NOV2015KC, 02DEC2015KC    Expanded Recall: 4.25lb Gold Medal All Purpose Flour\t  Package UPC 000-16000-12670, Case UPC 100-16000-12670, Recalled Better if Used by Dates\t21MAY2017KC, 03JUN2017KC.    Expanded Recall #2 7-25-16  Recalled Better if Used by Dates\t01AUG2017KC, 19AUG2017KC, 20AUG2017KC, 21AUG2017KC.    Expanded Recall:   10 lb Gold Medal All Purpose Flour- Banded Pack   Package UPC 000-16000-10650, Case UPC 000-16000-19011,   Recalled Better if Used by Dates\t15MAY2017KC      Expanded Recall:   50 lb Medallion Bakers All Purpose Flour\t  Unit UPC\t100-16000-54421  Code Dates/Production Dates\t12NOV2015KC, 13NOV2015KC, 18NOV2015KC, 25NOV2015KC, 04DEC2015KC      Expanded Recall:   25 lb Pillsbury Best All Purpose Flour (GMI Item number 132074)  Unit UPC\t100-18000-32475  Code Dates/Production Dates\t14NOV2015KC, 15NOV2015KC    Expanded Recall: \t  25 lb Jetro Chef's Quality All Purpose Flour (GMI Item number 57156)  Unit UPC\t60695-02574  Code Dates/Production Dates\t07NOV2015KC    \n",
      "**********\n"
     ]
    }
   ],
   "source": [
    "# You should look at all the clusters, but let's look at cluster \"15\" (I chose this arbitrarily; you should look at all of them)\n",
    "\n",
    "for i in range(0,len(km2.labels_)):\n",
    "    if km2.labels_[i] == 15:\n",
    "        print(raw_data['product_description'][i])\n",
    "        print('**********')"
   ]
  },
  {
   "cell_type": "code",
   "execution_count": 16,
   "metadata": {},
   "outputs": [
    {
     "name": "stdout",
     "output_type": "stream",
     "text": [
      "13.5 ounce Gold Medal Wondra   Case UPC\t000-16000-42476  Package UPC\t000-16000-18980  Recalled Better If Used By Dates\t25FEB2017PK, 26FEB2017PK, 27FEB2017PK, 02MAR2017PK, 03MAR2017PK, 04MAR2017PK, and 30MAR2017PK.  Expanded Recall:   Recalled Better if Used by Dates\t23FEB2017KC, 24FEB2017KC  Expanded Recall #2: 7-25-16  Recalled Better if Used by Dates\t14MAY2017PK    5 lb Safeway Signature Kitchens All Purpose Flour Enriched Bleached  Note:  Case uses BB (Best By) format, but consumer unit uses BIUB (Better/Best If Used By).  Case UPC\t100-21130-53001  Package UPC\t000-21130-53001  Recalled BIUB\tMAY 28 17    50 lb Gold Medal Hotel & Restaurant Bakers All-Purpose Enriched Flour Bleached       Unit UPC\t100-16000-14314  Code Dates/Production Dates\t19NOV5KC    Expanded: 08NOV2015KC, 09NOV2015KC, 25NOV2015KC, 02DEC2015KC, 03DEC2015KC.   \t   25 lb Gold Medal Hotel & Restaurant Bakers All-Purpose Enriched Flour Bleached  Unit UPC\t100-16000-14317  Code Dates/Production Dates\t15NOV2015KC, 16NOV2015KC, 17NOV2015KC, 18NOV2015KC, 19NOV2015KC, 20NOV2015KC,   21NOV2015KC.    Expanded: 12NOV2015KC, 13NOV2015KC, 22NOV2015KC, 25NOV2015KC, 01DEC2015KC, 02DEC2015KC, 03DEC2015KC, 04DEC2015KC, 11NOV2015KC.    25 lb Pillsbury Hotel & Restaurant All Purpose Bleached Enriched  Unit UPC\t100-18000-32666  Code Dates/Production Dates\t16NOV2015KC   \t   50 lb Pillsbury Hotel & Restaurant All Purpose Bleached Enriched  Unit UPC\t100-18000-32679  Code Dates/Production Dates\t17NOV5KC      Expanded Recall: 2 lb Signature Kitchens All Purpose Flour Enriched Bleached  Package UPC 000-21130-53000, Case UPC 100-21130-53000,  Recalled Better if Used by Dates\tBB MAY 27 2017    Expanded Recall #2 7-25-16.  Recalled Better if Used by Dates\tBB 15 AUG 2017, BB 16 AUG 2017    Expanded Recall:   10 lb Gold Medal H&R All Purpose Bleached Enriched Flour,   Unit UPC\t100-16000-14473,   Code Dates/Production Dates\t04NOV2015KC, 05NOV2015KC, 10NOV2015KC, 11NOV2015KC.    Expanded Recall:   25 lb Medallion All Purpose Flour Bleached Enriched Flour  Unit UPC\t100-16000-54425  Code Dates/Production Dates\t19NOV2015KC, 25NOV2015KC, 01DEC2015KC, 02DEC2015KC, 03DEC2015KC    Expanded Recall:\t  50 lb Wondra Enriched Flour \t  Unit UPC\t100-16000-58995  Code Dates/Production Dates\t07NOV2015KC, 08NOV2015KC, 04DEC2015KC  \t  Expanded Recall: 25 lb Pillsbury H&R All Purpose Bleached Enriched  Unit UPC\t100-18000-32666  Code Dates/Production Dates\t12NOV2015KC      Expanded Recall: \t  50 lb Sysco Classic  H&R Flour Bleached Enriched Malted (GMI Item number 52124)  Unit UPC\t34730-23936  Code Dates/Production Dates\t08NOV2015KC, 25NOV2015KC, 03DEC2015KC, 04DEC2015KC    Expanded Recall: \t  25 lb Sysco All-Purpose H&R Flour Bleached Enriched Malted (GMI item number 52125)  Unit UPC\t34730-23957  Code Dates/Production Dates\t07NOV2015KC, 14NOV2015KC    Expanded Recall:\t  25 lb  Sysco All-Purpose H&R Flour Bleached Enriched Malted (GMI Item number 52126)  Unit UPC\t34730-23958  Code Dates/Production Dates\t12NOV2015KC, 14NOV2015KC, 03DEC2015KC, 04DEC2015KC                    \n",
      "**********\n",
      "2 lb Gold Medal All Purpose Flour     Case UPC\t000-16000-10720  Package UPC\t000-16000-10710  Recalled Better If Used By Dates\t25MAY2017KC, 26MAY2017KC, 27MAY2017KC, 28MAY2017KC, 29MAY2017KC, 30MAY2017KC, 31MAY2017KC, 01JUN2017KC, 02JUN2017KC, and 03JUN2017KC    Expanded recall: 15MAY2017KC through 24MAY2017KC, 04JUN2017KC, 05JUN2017KC, 11JUN2017KC, 12JUN2017KC, 13JUN2017KC, 14JUN2017KC    Expanded recall #2: 7-25-16  Recalled Better if Used by Dates\t18JUN2017KC, 01AUG2017KC, 13AUG2017KC through 21AUG2017KC    10 lb Gold Medal All Purpose Flour\t   Case UPC\t000-16000-12410  Package UPC\t000-16000-10410  Recalled Better If Used By Dates\t02JUN2017KC,  03JUN2017KC    Expanded Recall: 16MAY2017KC through 20MAY2017KC, 05JUN2017KC  Expanded Recall: 7-25-16  Recalled Better if Used by Dates\t18JUN2017KC, 01AUG2017KC.    5 lb Gold Medal All Purpose Flour\t   Case UPC\t000-16000-12610  Package UPC\t000-16000-10610  Recalled Better If Used By Dates\t25MAY2017KC, 27MAY2017KC, 28MAY2017KC, 29MAY2017KC, 30MAY2017KC, 31MAY2017KC, 01JUN2017KC, 03JUN2017KC, 04JUN2017KC, 05JUN2017KC, 11JUN2017KC, 12JUN2017KC, 13JUN2017KC, 14JUN2017KC    Expanded Recall: 15MAY2017KC through 24MAY2017KC.    Expanded Recall #2: 7-25-16  Recalled Better if Used by Dates\t18JUN2017KC, 01AUG2017KC, 13AUG2017KC through 21AUG2017KC      10 lb Gold Medal All Purpose Flour- Banded Pack   Case UPC\t000-16000-21294  Package UPC\t000-16000-10410  Recalled Better If Used By Dates\t03JUN2017KC, 04JUN2017KC, 05JUN2017KC.    25 lb Jetro Lenz Best All Purpose Flour  Unit UPC\t60695-00295  Code Dates/Production Dates\t16NOV2015KC, 17NOV2015KC   Expanded: 13NOV2015KC, 14NOV2015KC, 04DEC2015KC  \t   50 lb Jetro Chef's Quality All Purpose Flour  Unit UPC\t60695-02575  Code Dates/Production Dates\t19NOV5KC  Expanded: 07NOV2015KC, 04NOV2015KC, 05NOV2015KC, 02DEC2015KC    Expanded Recall: 4.25lb Gold Medal All Purpose Flour\t  Package UPC 000-16000-12670, Case UPC 100-16000-12670, Recalled Better if Used by Dates\t21MAY2017KC, 03JUN2017KC.    Expanded Recall #2 7-25-16  Recalled Better if Used by Dates\t01AUG2017KC, 19AUG2017KC, 20AUG2017KC, 21AUG2017KC.    Expanded Recall:   10 lb Gold Medal All Purpose Flour- Banded Pack   Package UPC 000-16000-10650, Case UPC 000-16000-19011,   Recalled Better if Used by Dates\t15MAY2017KC      Expanded Recall:   50 lb Medallion Bakers All Purpose Flour\t  Unit UPC\t100-16000-54421  Code Dates/Production Dates\t12NOV2015KC, 13NOV2015KC, 18NOV2015KC, 25NOV2015KC, 04DEC2015KC      Expanded Recall:   25 lb Pillsbury Best All Purpose Flour (GMI Item number 132074)  Unit UPC\t100-18000-32475  Code Dates/Production Dates\t14NOV2015KC, 15NOV2015KC    Expanded Recall: \t  25 lb Jetro Chef's Quality All Purpose Flour (GMI Item number 57156)  Unit UPC\t60695-02574  Code Dates/Production Dates\t07NOV2015KC    \n",
      "**********\n"
     ]
    }
   ],
   "source": [
    "for i in range(0,len(km2.labels_)):\n",
    "    if km2.labels_[i] == 15:\n",
    "        print(raw_data['product_description'][i])\n",
    "        print('**********')"
   ]
  },
  {
   "cell_type": "code",
   "execution_count": 17,
   "metadata": {},
   "outputs": [
    {
     "name": "stdout",
     "output_type": "stream",
     "text": [
      "River Ranch brand Diced Grn Cabbage w/Color, 4 x 5lb bag, UPC: n/a; Product is a salad item; bagged in clear polyethylene film (foodservice) and polypropylene/polyethylene (retail). Refrigerate and consume within Best By date. Product is processed and packaged by River Ranch Fresh Foods, LLC Salinas, CA\n",
      "**********\n",
      "Fresh n Easy brand Shred Grn Cabbage w/Color, 4 x 5 lb bag, UPC: n/a; Product is a salad item; bagged in clear polyethylene film (foodservice) and polypropylene/polyethylene (retail). Refrigerate and consume within Best By date. Product is processed and packaged by River Ranch Fresh Foods, LLC\n",
      "**********\n",
      "River Ranch brand Three-Color Cole Slaw Mix, 16 oz bag, UPC:  45388-10046; Product is a salad item; bagged in clear polyethylene film (foodservice) and polypropylene/polyethylene (retail). Refrigerate and consume within Best By date. Product is processed and packaged by River Ranch Fresh Foods, LLC, Salinas, CA\n",
      "**********\n",
      "River Ranch brand Spring Mix, 3 lb bag, UPC: n/a; Product is a salad item; bagged in clear polyethylene film (foodservice) and polypropylene/polyethylene (retail). Refrigerate and consume within Best By date. Product is processed and packaged by River Ranch Fresh Foods, LLC\n",
      "**********\n",
      "River Ranch brand Shredded Red Cabbage, 4 x 5 lb bag, UPC: n/a; Product is a salad item; bagged in clear polyethylene film (foodservice) and polypropylene/polyethylene (retail). Refrigerate and consume within Best By date. Product is processed and packaged by River Ranch Fresh Foods, LLC\n",
      "**********\n",
      "Hy Vee brand Italian Blend, 10 oz bag, UPC:  75450-12048; Product is a salad item; bagged in clear polyethylene film (foodservice) and polypropylene/polyethylene (retail). Refrigerate and consume within Best By date. Product is processed and packaged by River Ranch Fresh Foods, LLC, Salinas, CA\n",
      "**********\n",
      "Fresh n Easy brand Garden with Romaine, 4 x 5 lb bag, UPC: n/a; Product is a salad item; bagged in clear polyethylene film (foodservice) and polypropylene/polyethylene (retail). Refrigerate and consume within Best By date. Product is processed and packaged by River Ranch Fresh Foods, LLC\n",
      "**********\n",
      "Cross Valley brand Shredded Icebreg (1/4\"), (1/8\")  4 x 5 lb bag, UPC: n/a; Product is a salad item; bagged in clear polyethylene film (foodservice) and polypropylene/polyethylene (retail). Refrigerate and consume within Best By date. Product is processed and packaged by River Ranch Fresh Foods, LLC\n",
      "**********\n",
      "Hy Vee brand Chopped Romaine, 10 oz bag, UPC:  75450-12055; Product is a salad item; bagged in clear polyethylene film (foodservice) and polypropylene/polyethylene (retail). Refrigerate and consume within Best By date. Product is processed and packaged by River Ranch Fresh Foods, LLC, Salinas, CA\n",
      "**********\n",
      "The Farmers Market brand American Salad Blend, 12 oz bag, UPC:  30034-30105; Product is a salad item; bagged in clear polyethylene film (foodservice) and polypropylene/polyethylene (retail). Refrigerate and consume within Best By date. Product is processed and packaged by River Ranch Fresh Foods, LLC, Salinas, CA\n",
      "**********\n",
      "The Farmers Market brand Parisian Salad Blend, 7 oz bag, UPC:  30034-30259; Product is a salad item; bagged in clear polyethylene film (foodservice) and polypropylene/polyethylene (retail). Refrigerate and consume within Best By date. Product is processed and packaged by River Ranch Fresh Foods, LLC, Salinas, CA\n",
      "**********\n",
      "River Ranch brand Shred Grn Cabb w/Carr, 4 x 5 lb bag, UPC: n/a; Product is a salad item; bagged in clear polyethylene film (foodservice) and polypropylene/polyethylene (retail). Refrigerate and consume within Best By date. Product is processed and packaged by River Ranch Fresh Foods, LLC\n",
      "**********\n",
      "Promark brand Shredded Icebreg (1/8\"), 4 x 5 lb bag, UPC: n/a; Product is a salad item; bagged in clear polyethylene film (foodservice) and polypropylene/polyethylene (retail). Refrigerate and consume within Best By date. Product is processed and packaged by River Ranch Fresh Foods, LLC\n",
      "**********\n",
      "The Farmers Market brand Garden Supreme, 12 oz bag, UPC:  30034-30146; Product is a salad item; bagged in clear polyethylene film (foodservice) and polypropylene/polyethylene (retail). Refrigerate and consume within Best By date. Product is processed and packaged by River Ranch Fresh Foods, LLC, Salinas, CA\n",
      "**********\n",
      "The Farmers Market brand Cole Slaw, 16 oz bag, UPC:  30034-30013; Product is a salad item; bagged in clear polyethylene film (foodservice) and polypropylene/polyethylene (retail). Refrigerate and consume within Best By date. Product is processed and packaged by River Ranch Fresh Foods, LLC, Salinas, CA\n",
      "**********\n",
      "River Ranch brand Classic Garden, 6 oz, 16 oz bags, UPCs: 45388-60001, 45388-60002; Product is a salad item; bagged in clear polyethylene film (foodservice) and polypropylene/polyethylene (retail). Refrigerate and consume within Best By date. Product is processed and packaged by River Ranch Fresh Foods, LLC, Salinas, CA\n",
      "**********\n",
      "River Ranch brand Valley Blend, 6 x 2 lb bag, UPC: n/a; Product is a salad item; bagged in clear polyethylene film (foodservice) and polypropylene/polyethylene (retail). Refrigerate and consume within Best By date. Product is processed and packaged by River Ranch Fresh Foods, LLC\n",
      "**********\n",
      "River Ranch brand Iceberg Shreds, 8 oz bag, UPC: 45388-60045; Product is a salad item; bagged in clear polyethylene film (foodservice) and polypropylene/polyethylene (retail). Refrigerate and consume within Best By date. Product is processed and packaged by River Ranch Fresh Foods, LLC, Salinas, CA\n",
      "**********\n",
      "River Ranch brand Carrot Shreds, 4 x 5 lb bag, UPC: n/a; Product is a salad item; bagged in clear polyethylene film (foodservice) and polypropylene/polyethylene (retail). Refrigerate and consume within Best By date. Product is processed and packaged by River Ranch Fresh Foods, LLC\n",
      "**********\n",
      "Hy Vee brand Garden Supreme ,12 oz bag, UPC:  75450-12046; Product is a salad item; bagged in clear polyethylene film (foodservice) and polypropylene/polyethylene (retail). Refrigerate and consume within Best By date. Product is processed and packaged by River Ranch Fresh Foods, LLC, Salinas, CA\n",
      "**********\n",
      "Fresh n Easy brand Chopped Iceberg w/ Color, 4 x 5 lb bag, UPC: n/a; Product is a salad item; bagged in clear polyethylene film (foodservice) and polypropylene/polyethylene (retail). Refrigerate and consume within Best By date. Product is processed and packaged by River Ranch Fresh Foods, LLC\n",
      "**********\n",
      "River Ranch brand California Blend, 4 x 5 lb bag, UPC: n/a; Product is a salad item; bagged in clear polyethylene film (foodservice) and polypropylene/polyethylene (retail). Refrigerate and consume within Best By date. Product is processed and packaged by River Ranch Fresh Foods, LLC\n",
      "**********\n",
      "The Farmers Market brand Angel Hair Cole Slaw, 10 oz bag, UPC:  30034-30266; Product is a salad item; bagged in clear polyethylene film (foodservice) and polypropylene/polyethylene (retail). Refrigerate and consume within Best By date. Product is processed and packaged by River Ranch Fresh Foods, LLC, Salinas, CA\n",
      "**********\n",
      "The Farmers Market brand Leafy Romaine Blend, 9 oz bag, UPC:  30034-30364; Product is a salad item; bagged in clear polyethylene film (foodservice) and polypropylene/polyethylene (retail). Refrigerate and consume within Best By date. Product is processed and packaged by River Ranch Fresh Foods, LLC, Salinas, CA\n",
      "**********\n",
      "Sysco brand Iceberg Salad Mix, 4 x 5 lb bag, UPC: n/a; Product is a salad item; bagged in clear polyethylene film (foodservice) and polypropylene/polyethylene (retail). Refrigerate and consume within Best By date. Product is processed and packaged by River Ranch Fresh Foods, LLC\n",
      "**********\n",
      "River Ranch brand Heritage Blend, 16 oz bag, UPC: n/a; Product is a salad item; bagged in clear polyethylene film (foodservice) and polypropylene/polyethylene (retail). Refrigerate and consume within Best By date. Product is processed and packaged by River Ranch Fresh Foods, LLC, Salinas, CA\n",
      "**********\n",
      "River Ranch brand Iceberg Salad Mix, 4 x 5 lb bag, UPC: n/a; Product is a salad item; bagged in clear polyethylene film (foodservice) and polypropylene/polyethylene (retail). Refrigerate and consume within Best By date. Product is processed and packaged by River Ranch Fresh Foods, LLC\n",
      "**********\n",
      "Hy Vee brand Caesar Salad Kit, 10 oz bag, UPC:  75450-12050; Product is a salad item; bagged in clear polyethylene film (foodservice) and polypropylene/polyethylene (retail). Refrigerate and consume within Best By date. Product is processed and packaged by River Ranch Fresh Foods, LLC, Salinas, CA\n",
      "**********\n",
      "Hy Vee brand Shredded Lettuce, 8 oz bag, UPC:  75450-12053; Product is a salad item; bagged in clear polyethylene film (foodservice) and polypropylene/polyethylene (retail). Refrigerate and consume within Best By date. Product is processed and packaged by River Ranch Fresh Foods, LLC, Salinas, CA\n",
      "**********\n",
      "The Farmers Market brand ColeSlaw Kit, 11 oz bag, UPC:  30034-99829; Product is a salad item; bagged in clear polyethylene film (foodservice) and polypropylene/polyethylene (retail). Refrigerate and consume within Best By date. Product is processed and packaged by River Ranch Fresh Foods, LLC, Salinas, CA\n",
      "**********\n",
      "Cross Valley brand Iceberg / Romaine w/Color, 4 x 5 lb bag, UPC: n/a; Product is a salad item; bagged in clear polyethylene film (foodservice) and polypropylene/polyethylene (retail). Refrigerate and consume within Best By date. Product is processed and packaged by River Ranch Fresh Foods, LLC\n",
      "**********\n",
      "Fresh n Easy brand Shredded Icebreg (1/4\"), (1/8\"), 4 x 5 lb bag, UPC: n/a; Product is a salad item; bagged in clear polyethylene film (foodservice) and polypropylene/polyethylene (retail). Refrigerate and consume within Best By date. Product is processed and packaged by River Ranch Fresh Foods, LLC\n",
      "**********\n",
      "River Ranch brand Greener Garden, 12 oz bag, UPC: 45388-60040;Product is a salad item; bagged in clear polyethylene film (foodservice) and polypropylene/polyethylene (retail). Refrigerate and consume within Best By date. Product is processed and packaged by River Ranch Fresh Foods, LLC, Salinas, CA\n",
      "**********\n",
      "Cross Valley brand Chopped Iceberg, 4 x 5 lb bag, UPC: n/a; Product is a salad item; bagged in clear polyethylene film (foodservice) and polypropylene/polyethylene (retail). Refrigerate and consume within Best By date. Product is processed and packaged by River Ranch Fresh Foods, LLC\n",
      "**********\n",
      "Cross Valley brand Chopped Iceberg w/Color, 4 x 5 lb bag, UPC: n/a; Product is a salad item; bagged in clear polyethylene film (foodservice) and polypropylene/polyethylene (retail). Refrigerate and consume within Best By date. Product is processed and packaged by River Ranch Fresh Foods, LLC\n",
      "**********\n",
      "Cross Valley brand Iceberg Salad Mix, 4 x 5lb bag, UPC: n/a; Product is a salad item; bagged in clear polyethylene film (foodservice) and polypropylene/polyethylene (retail). Refrigerate and consume within Best By date. Product is processed and packaged by River Ranch Fresh Foods, LLC\n",
      "**********\n",
      "River Ranch brand Iceberg & Romaine European, 12 oz bag, UPC: 45388-60019;Product is a salad item; bagged in clear polyethylene film (foodservice) and polypropylene/polyethylene (retail). Refrigerate and consume within Best By date. Product is processed and packaged by River Ranch Fresh Foods, LLC, Salinas, CA\n",
      "**********\n",
      "River Ranch brand Iceberg & Romaine 50/50, 4 x 5lb bag, UPC: n/a; Product is a salad item; bagged in clear polyethylene film (foodservice) and polypropylene/polyethylene (retail). Refrigerate and consume within Best By date. Product is processed and packaged by River Ranch Fresh Foods, LLC\n",
      "**********\n",
      "Cross Valley brand Shred Grn Cabbage w/Color, 4 x 5 lb bag, UPC: n/a; Product is a salad item; bagged in clear polyethylene film (foodservice) and polypropylene/polyethylene (retail). Refrigerate and consume within Best By date. Product is processed and packaged by River Ranch Fresh Foods, LLC\n",
      "**********\n",
      "Sysco brand Spring Mix, 3 lb bag, UPC: n/a; Product is a salad item; bagged in clear polyethylene film (foodservice) and polypropylene/polyethylene (retail). Refrigerate and consume within Best By date. Product is processed and packaged by River Ranch Fresh Foods, LLC\n",
      "**********\n",
      "River Ranch brand Spring Mix, 24 oz bag, 48 oz bag, UPCs:  n/a; Product is a salad item; bagged in clear polyethylene film (foodservice) and polypropylene/polyethylene (retail). Refrigerate and consume within Best By date. Product is processed and packaged by River Ranch Fresh Foods, LLC, Salinas, CA\n",
      "**********\n",
      "River Ranch brand Chopped Romaine w/ Liner, 6 x 2 lb bag, UPC: n/a; Product is a salad item; bagged in clear polyethylene film (foodservice) and polypropylene/polyethylene (retail). Refrigerate and consume within Best By date. Product is processed and packaged by River Ranch Fresh Foods, LLC\n",
      "**********\n",
      "Marketside brand Classic Iceberg Salad, 6 oz, 12 oz, 24 oz bags, UPCs: 81131-32893, 81131-32894, 81131-32895; Product is a salad item; bagged in clear polyethylene film (foodservice) and polypropylene/polyethylene (retail). Refrigerate and consume within Best By date. Product is processed and packaged by River Ranch Fresh Foods, LLC Salinas, CA\n",
      "**********\n",
      "River Ranch brand Chopped Romaine, 10 oz bag, UPC: 45388-88030;Product is a salad item; bagged in clear polyethylene film (foodservice) and polypropylene/polyethylene (retail). Refrigerate and consume within Best By date. Product is processed and packaged by River Ranch Fresh Foods, LLC, Salinas, CA\n",
      "**********\n",
      "River Ranch brand Iceberg & Romaine, 4 x 5 lb bag, UPC: n/a; Product is a salad item; bagged in clear polyethylene film (foodservice) and polypropylene/polyethylene (retail). Refrigerate and consume within Best By date. Product is processed and packaged by River Ranch Fresh Foods, LLC\n",
      "**********\n",
      "The Farmers Market brand Italian Salad Blend, 10 oz bag, UPC:  30034-30115; Product is a salad item; bagged in clear polyethylene film (foodservice) and polypropylene/polyethylene (retail). Refrigerate and consume within Best By date. Product is processed and packaged by River Ranch Fresh Foods, LLC, Salinas, CA\n",
      "**********\n",
      "Hy Vee brand Romaine Garden Blend, 12 oz bag, UPC:  75450-12058; Product is a salad item; bagged in clear polyethylene film (foodservice) and polypropylene/polyethylene (retail). Refrigerate and consume within Best By date. Product is processed and packaged by River Ranch Fresh Foods, LLC, Salinas, CA\n",
      "**********\n",
      "Farm Stand brand Iceberg Garden Salad, 16 oz bag, 24 oz bag, UPCs:  41163-45452, 41163-45453; Product is a salad item; bagged in clear polyethylene film (foodservice) and polypropylene/polyethylene (retail). Refrigerate and consume within Best By date. Product is processed and packaged by River Ranch Fresh Foods, LLC, Salinas, CA\n",
      "**********\n",
      "River Ranch brand Angel Hair, 10 oz bag, UPC: 45388-10031;Product is a salad item; bagged in clear polyethylene film (foodservice) and polypropylene/polyethylene (retail). Refrigerate and consume within Best By date. Product is processed and packaged by River Ranch Fresh Foods, LLC, Salinas, CA\n",
      "**********\n",
      "The Farmers Market brand European Salad Blend, 12 oz bag, UPC:  30034-30125; Product is a salad item; bagged in clear polyethylene film (foodservice) and polypropylene/polyethylene (retail). Refrigerate and consume within Best By date. Product is processed and packaged by River Ranch Fresh Foods, LLC, Salinas, CA\n",
      "**********\n",
      "Sysco brand Chopped Iceberg w/ Color, 4 x 5 lb bag, UPC: n/a; Product is a salad item; bagged in clear polyethylene film (foodservice) and polypropylene/polyethylene (retail). Refrigerate and consume within Best By date. Product is processed and packaged by River Ranch Fresh Foods, LLC\n",
      "**********\n",
      "The Farmers Market brand Iceberg Shredded, 8 oz, 16 oz bags, UPCs:  30034-30195, 30034-99888; Product is a salad item; bagged in clear polyethylene film (foodservice) and polypropylene/polyethylene (retail). Refrigerate and consume within Best By date. Product is processed and packaged by River Ranch Fresh Foods, LLC, Salinas, CA\n",
      "**********\n",
      "River Ranch brand Romaine Garden, 10 oz bag, UPC: 45388-60044;Product is a salad item; bagged in clear polyethylene film (foodservice) and polypropylene/polyethylene (retail). Refrigerate and consume within Best By date. Product is processed and packaged by River Ranch Fresh Foods, LLC, Salinas, CA\n",
      "**********\n",
      "Marketside brand Shredded Iceberg Lettuce, 8 oz bag, 16 oz bag, UPC: 81131-32896, 81131-53209; Product is a salad item; bagged in clear polyethylene film (foodservice) and polypropylene/polyethylene (retail). Refrigerate and consume within Best By date. Product is processed and packaged by River Ranch Fresh Foods, LLC Salinas, CA\n",
      "**********\n",
      "The Farmers Market brand Romaine Garden Salad Blend, 12 oz bag, UPC:  30034-30220; Product is a salad item; bagged in clear polyethylene film (foodservice) and polypropylene/polyethylene (retail). Refrigerate and consume within Best By date. Product is processed and packaged by River Ranch Fresh Foods, LLC, Salinas, CA\n",
      "**********\n",
      "River Ranch brand Restaurant-Style Cole Slaw, 16 oz bag, UPC: 45388-10024; Product is a salad item; bagged in clear polyethylene film (foodservice) and polypropylene/polyethylene (retail). Refrigerate and consume within Best By date. Product is processed and packaged by River Ranch Fresh Foods, LLC, Salinas, CA\n",
      "**********\n",
      "River Ranch brand Italian Salad, 10 oz bag, UPC: 45388-60020;Product is a salad item; bagged in clear polyethylene film (foodservice) and polypropylene/polyethylene (retail). Refrigerate and consume within Best By date. Product is processed and packaged by River Ranch Fresh Foods, LLC, Salinas, CA\n",
      "**********\n",
      "River Ranch brand Complete Caesar Salad Kit, 10 oz bag, UPC: 45388-60043;Product is a salad item; bagged in clear polyethylene film (foodservice) and polypropylene/polyethylene (retail). Refrigerate and consume within Best By date. Product is processed and packaged by River Ranch Fresh Foods, LLC, Salinas, CA\n",
      "**********\n",
      "River Ranch brand Chopped Iceberg, 4 x 5 lb bag, UPC: n/a; Product is a salad item; bagged in clear polyethylene film (foodservice) and polypropylene/polyethylene (retail). Refrigerate and consume within Best By date. Product is processed and packaged by River Ranch Fresh Foods, LLC\n",
      "**********\n",
      "Cross Valley brand Garden with Romaine, 4 x 5 lb bag, UPC: n/a; Product is a salad item; bagged in clear polyethylene film (foodservice) and polypropylene/polyethylene (retail). Refrigerate and consume within Best By date. Product is processed and packaged by River Ranch Fresh Foods, LLC\n",
      "**********\n",
      "Shurfresh brand Romaine Garden Salad, 10 oz bag, UPC:  11161-40134; Product is a salad item; bagged in clear polyethylene film (foodservice) and polypropylene/polyethylene (retail). Refrigerate and consume within Best By date. Product is processed and packaged by River Ranch Fresh Foods, LLC, Salinas, CA\n",
      "**********\n",
      "Sysco brand Chopped Iceberg, 4 x 5 lb bag, UPC: n/a; Product is a salad item; bagged in clear polyethylene film (foodservice) and polypropylene/polyethylene (retail). Refrigerate and consume within Best By date. Product is processed and packaged by River Ranch Fresh Foods, LLC\n",
      "**********\n",
      "The Farmers Market brand Garden Salad, 6 oz, 12 oz, 24 oz  bags, UPCs:  30034-30012, 30034-30400, 30034-30363; Product is a salad item; bagged in clear polyethylene film (foodservice) and polypropylene/polyethylene (retail). Refrigerate and consume within Best By date. Product is processed and packaged by River Ranch Fresh Foods, LLC, Salinas, CA\n",
      "**********\n",
      "The Farmers Market brand Romaine Chopped, 10 oz bag, UPC:  30034-30141; Product is a salad item; bagged in clear polyethylene film (foodservice) and polypropylene/polyethylene (retail). Refrigerate and consume within Best By date. Product is processed and packaged by River Ranch Fresh Foods, LLC, Salinas, CA\n",
      "**********\n",
      "River Ranch brand Shredded Icebreg (1/4\"), (1/8\"),  4 x 5 lb bag, UPC: n/a; Product is a salad item; bagged in clear polyethylene film (foodservice) and polypropylene/polyethylene (retail). Refrigerate and consume within Best By date. Product is processed and packaged by River Ranch Fresh Foods, LLC\n",
      "**********\n",
      "Hy Vee brand Garden Salad, 16 oz, 48 oz  bag, UPC:  75450-12052, 75450-12065;Product is a salad item; bagged in clear polyethylene film (foodservice) and polypropylene/polyethylene (retail). Refrigerate and consume within Best By date. Product is processed and packaged by River Ranch Fresh Foods, LLC, Salinas, CA\n",
      "**********\n",
      "River Ranch brand Classic Garden, 32 oz bag, UPC: 45388-60011; Product is a salad item; bagged in clear polyethylene film (foodservice) and polypropylene/polyethylene (retail). Refrigerate and consume within Best By date. Product is processed and packaged by River Ranch Fresh Foods, LLC Salinas, CA\n",
      "**********\n",
      "Promark brand Chopped Iceberg w/ Color, 4 x 5 lb bag, UPC: n/a; Product is a salad item; bagged in clear polyethylene film (foodservice) and polypropylene/polyethylene (retail). Refrigerate and consume within Best By date. Product is processed and packaged by River Ranch Fresh Foods, LLC\n",
      "**********\n",
      "Sysco brand Shredded Iceberg (1/4\"), (1/8\") 4 x 5 lb bag, UPCs: n/a; Product is a salad item; bagged in clear polyethylene film (foodservice) and polypropylene/polyethylene (retail). Refrigerate and consume within Best By date. Product is processed and packaged by River Ranch Fresh Foods, LLC\n",
      "**********\n",
      "River Ranch brand Shred Grn Cabbage w/Color, 4 x 5lb bag, UPC: n/a; Product is a salad item; bagged in clear polyethylene film (foodservice) and polypropylene/polyethylene (retail). Refrigerate and consume within Best By date. Product is processed and packaged by River Ranch Fresh Foods, LLC\n",
      "**********\n",
      "Shurfresh brand Cole Slaw, 16 oz bag, UPC:  11161-49088; Product is a salad item; bagged in clear polyethylene film (foodservice) and polypropylene/polyethylene (retail). Refrigerate and consume within Best By date. Product is processed and packaged by River Ranch Fresh Foods, LLC, Salinas, CA\n",
      "**********\n",
      "Hy Vee brand American Blend, 12 oz bag, UPC:  75450-12047; Product is a salad item; bagged in clear polyethylene film (foodservice) and polypropylene/polyethylene (retail). Refrigerate and consume within Best By date. Product is processed and packaged by River Ranch Fresh Foods, LLC, Salinas, CA\n",
      "**********\n",
      "River Ranch brand Garden with Romaine, 4 x 5 lb bag, UPC: n/a; Product is a salad item; bagged in clear polyethylene film (foodservice) and polypropylene/polyethylene (retail). Refrigerate and consume within Best By date. Product is processed and packaged by River Ranch Fresh Foods, LLC\n",
      "**********\n",
      "River Ranch brand Iceberg/Romaine w/Color, 4 x 5 lb bag, UPC: n/a; Product is a salad item; bagged in clear polyethylene film (foodservice) and polypropylene/polyethylene (retail). Refrigerate and consume within Best By date. Product is processed and packaged by River Ranch Fresh Foods, LLC\n",
      "**********\n",
      "Sysco brand Shred Grn Cabbage w/ Color, 4 x 5 lb bag, UPC: n/a; Product is a salad item; bagged in clear polyethylene film (foodservice) and polypropylene/polyethylene (retail). Refrigerate and consume within Best By date. Product is processed and packaged by River Ranch Fresh Foods, LLC\n",
      "**********\n",
      "River Ranch brand Diced Green Cabb w/Carrot, 4 x 5lb bag, UPC: n/a; Product is a salad item; bagged in clear polyethylene film (foodservice) and polypropylene/polyethylene (retail). Refrigerate and consume within Best By date. Product is processed and packaged by River Ranch Fresh Foods, LLC\n",
      "**********\n",
      "Hy Vee brand Cole Slaw, 16 oz bag, UPC:  75450-12051; Product is a salad item; bagged in clear polyethylene film (foodservice) and polypropylene/polyethylene (retail). Refrigerate and consume within Best By date. Product is processed and packaged by River Ranch Fresh Foods, LLC, Salinas, CA\n",
      "**********\n",
      "Fresh n Easy brand Chopped Iceberg, 4 x 5 lb bag, UPC: n/a; Product is a salad item; bagged in clear polyethylene film (foodservice) and polypropylene/polyethylene (retail). Refrigerate and consume within Best By date. Product is processed and packaged by River Ranch Fresh Foods, LLC\n",
      "**********\n",
      "Shurfresh brand Iceberg Garden Salad, 16 oz bag, UPC: 11161-49092; Product is a salad item; bagged in clear polyethylene film (foodservice) and polypropylene/polyethylene (retail). Refrigerate and consume within Best By date. Product is processed and packaged by River Ranch Fresh Foods, LLC, Salinas, CA\n",
      "**********\n",
      "River Ranch brand Iceberg & Romaine American, 12 oz bag, UPC: 45388-60042;Product is a salad item; bagged in clear polyethylene film (foodservice) and polypropylene/polyethylene (retail). Refrigerate and consume within Best By date. Product is processed and packaged by River Ranch Fresh Foods, LLC, Salinas, CA\n",
      "**********\n",
      "Sysco brand Garden with Romaine, 4 x 5 lb bag, UPC: n/a; Product is a salad item; bagged in clear polyethylene film (foodservice) and polypropylene/polyethylene (retail). Refrigerate and consume within Best By date. Product is processed and packaged by River Ranch Fresh Foods, LLC\n",
      "**********\n",
      "Shurfresh brand Greener Garden Salad, 12 oz bag, UPC:  11161-40133; Product is a salad item; bagged in clear polyethylene film (foodservice) and polypropylene/polyethylene (retail). Refrigerate and consume within Best By date. Product is processed and packaged by River Ranch Fresh Foods, LLC, Salinas, CA\n",
      "**********\n",
      "River Ranch brand Shredded Romaine, 6 x 2 lb bag, UPC: n/a; Product is a salad item; bagged in clear polyethylene film (foodservice) and polypropylene/polyethylene (retail). Refrigerate and consume within Best By date. Product is processed and packaged by River Ranch Fresh Foods, LLC\n",
      "**********\n",
      "Sysco brand Spring Mix,  48 oz bag, UPC: n/a; Product is a salad item; bagged in clear polyethylene film (foodservice) and polypropylene/polyethylene (retail). Refrigerate and consume within Best By date. Product is processed and packaged by River Ranch Fresh Foods, LLC, Salinas, CA\n",
      "**********\n",
      "River Ranch brand Creamy Homestyle Cole Slaw Kit, 11.5oz bag, UPC:  45388-10037;Product is a salad item; bagged in clear polyethylene film (foodservice) and polypropylene/polyethylene (retail). Refrigerate and consume within Best By date. Product is processed and packaged by River Ranch Fresh Foods, LLC, Salinas, CA\n",
      "**********\n",
      "Hy Vee brand European Blend, 12 oz bag, UPC:  75450-12049; Product is a salad item; bagged in clear polyethylene film (foodservice) and polypropylene/polyethylene (retail). Refrigerate and consume within Best By date. Product is processed and packaged by River Ranch Fresh Foods, LLC, Salinas, CA\n",
      "**********\n",
      "Sysco brand Chopped Romaine, 6 x 2 lb bag, UPC: n/a; Product is a salad item; bagged in clear polyethylene film (foodservice) and polypropylene/polyethylene (retail). Refrigerate and consume within Best By date. Product is processed and packaged by River Ranch Fresh Foods, LLC\n",
      "**********\n"
     ]
    },
    {
     "name": "stdout",
     "output_type": "stream",
     "text": [
      "UPC  071725748010,\tSunflower Seeds Roasted and Salted, Best By/Date Code: 11/27/2016.    UPC  007172524140,\tAmport Roasted and Salted Sunflower Seeds, Best By/Date Code:11/26/2016.    639277348319,Naturally Select  Roasted and Salted Sunflower Seed, Best By/Date Code: 3/1/2017.    UPC  071725241351,\tAmport Foods Sunflower Seeds Roasted & Salted, Best By/Date Code:12/3/2016,12/26/2016, 12/12/2016 .    UPC 071725748010,\tAmport Foods Sunflower Seeds Roasted & Salted, Best By/Date Code:12/31/2016,12/26/2016, 1/14/2017 .    UPC 071725241405,\tAmport Foods Sunflower Seeds Roasted & Salted, Best By/Date Code:1/7/2017 .        \n",
      "**********\n",
      "Sunflower Kernels packaged in the following brands and sizes:      UPC 041498206680, Southern Grove Roasted and Salted Sunflower Kernels,   Best by/Date: 3/1/2017, 3/2/2017, 2/28/2017, 3/15/2017,3/28/2017, 4/29/2017 .    UPC 071725727497, Natures Harvest Roasted and Salted Sunflower Kernels, Best by/Date: 11/25/2016, 12/4/2016, 3/1/2017, 12/19/2016,12/20/2016, 12/25/2016, 1/2/2017,  1/3/2017, 1/16/2017, 1/20/17 .    USPC 883967300013,\tSmart Sense Roasted and Salted Sunflower Kernels, Best by/Date: 3/4/2017.    USPC 050428353240,\tGold Emblem Roasted and Salted Sunflower Kernels, Best by/Date: 11/27/2016, 1/14/2017.    USPC 883967300013,\tSmart Sense Roasted Salted Sunflower Kernels, Best by/Date: 3/16/2017.                          \n",
      "**********\n"
     ]
    }
   ],
   "source": [
    "for i in range(0,len(km2.labels_)):\n",
    "    if km2.labels_[i] == 14:\n",
    "        print(raw_data['product_description'][i])\n",
    "        print('**********')"
   ]
  },
  {
   "cell_type": "code",
   "execution_count": 26,
   "metadata": {
    "scrolled": false
   },
   "outputs": [
    {
     "name": "stdout",
     "output_type": "stream",
     "text": [
      "For n_clusters = 15 The average silhouette_score is : 0.36354438907084285\n"
     ]
    },
    {
     "ename": "AttributeError",
     "evalue": "'numpy.ndarray' object has no attribute 'toarray'",
     "output_type": "error",
     "traceback": [
      "\u001b[0;31m---------------------------------------------------------------------------\u001b[0m",
      "\u001b[0;31mAttributeError\u001b[0m                            Traceback (most recent call last)",
      "\u001b[0;32m<ipython-input-26-0eee1d89cbf6>\u001b[0m in \u001b[0;36m<module>\u001b[0;34m\u001b[0m\n\u001b[1;32m     83\u001b[0m \u001b[0;34m\u001b[0m\u001b[0m\n\u001b[1;32m     84\u001b[0m     ax2.scatter(\n\u001b[0;32m---> 85\u001b[0;31m         \u001b[0mX\u001b[0m\u001b[0;34m[\u001b[0m\u001b[0;34m:\u001b[0m\u001b[0;34m,\u001b[0m \u001b[0;36m0\u001b[0m\u001b[0;34m]\u001b[0m\u001b[0;34m.\u001b[0m\u001b[0mtoarray\u001b[0m\u001b[0;34m(\u001b[0m\u001b[0;34m)\u001b[0m\u001b[0;34m,\u001b[0m \u001b[0mX\u001b[0m\u001b[0;34m[\u001b[0m\u001b[0;34m:\u001b[0m\u001b[0;34m,\u001b[0m \u001b[0;36m1\u001b[0m\u001b[0;34m]\u001b[0m\u001b[0;34m.\u001b[0m\u001b[0mtoarray\u001b[0m\u001b[0;34m(\u001b[0m\u001b[0;34m)\u001b[0m\u001b[0;34m,\u001b[0m \u001b[0mmarker\u001b[0m\u001b[0;34m=\u001b[0m\u001b[0;34m\".\"\u001b[0m\u001b[0;34m,\u001b[0m \u001b[0ms\u001b[0m\u001b[0;34m=\u001b[0m\u001b[0;36m30\u001b[0m\u001b[0;34m,\u001b[0m \u001b[0mlw\u001b[0m\u001b[0;34m=\u001b[0m\u001b[0;36m0\u001b[0m\u001b[0;34m,\u001b[0m \u001b[0malpha\u001b[0m\u001b[0;34m=\u001b[0m\u001b[0;36m0.7\u001b[0m\u001b[0;34m,\u001b[0m \u001b[0mc\u001b[0m\u001b[0;34m=\u001b[0m\u001b[0mcolors\u001b[0m\u001b[0;34m,\u001b[0m \u001b[0medgecolor\u001b[0m\u001b[0;34m=\u001b[0m\u001b[0;34m\"k\"\u001b[0m\u001b[0;34m\u001b[0m\u001b[0m\n\u001b[0m\u001b[1;32m     86\u001b[0m     )\n\u001b[1;32m     87\u001b[0m \u001b[0;34m\u001b[0m\u001b[0m\n",
      "\u001b[0;31mAttributeError\u001b[0m: 'numpy.ndarray' object has no attribute 'toarray'"
     ]
    },
    {
     "data": {
      "image/png": "[encoded data removed]",
      "text/plain": [
       "<Figure size 1296x504 with 2 Axes>"
      ]
     },
     "metadata": {
      "needs_background": "light"
     },
     "output_type": "display_data"
    }
   ],
   "source": [
    "from sklearn.cluster import KMeans\n",
    "from sklearn.metrics import silhouette_samples, silhouette_score\n",
    "\n",
    "import matplotlib.pyplot as plt\n",
    "import matplotlib.cm as cm\n",
    "import numpy as np\n",
    "\n",
    "\n",
    "\n",
    "range_n_clusters = [15, 25, 70] #[2, 3, 4, 5, 6]\n",
    "\n",
    "for n_clusters in range_n_clusters:\n",
    "    # Create a subplot with 1 row and 2 columns\n",
    "    fig, (ax1, ax2) = plt.subplots(1, 2)\n",
    "    fig.set_size_inches(18, 7)\n",
    "\n",
    "    # The 1st subplot is the silhouette plot\n",
    "    # The silhouette coefficient can range from -1, 1 but in this example all\n",
    "    # lie within [-0.1, 1]\n",
    "    ax1.set_xlim([-0.1, 1])\n",
    "    # The (n_clusters+1)*10 is for inserting blank space between silhouette\n",
    "    # plots of individual clusters, to demarcate them clearly.\n",
    "    ax1.set_ylim([0, X.shape[0] + (n_clusters + 1) * 10])\n",
    "\n",
    "    # Initialize the clusterer with n_clusters value and a random generator\n",
    "    # seed of 10 for reproducibility.\n",
    "    clusterer = KMeans(n_clusters=n_clusters, random_state=10)\n",
    "    cluster_labels = clusterer.fit_predict(X)\n",
    "\n",
    "    # The silhouette_score gives the average value for all the samples.\n",
    "    # This gives a perspective into the density and separation of the formed\n",
    "    # clusters\n",
    "    silhouette_avg = silhouette_score(X, cluster_labels)\n",
    "    print(\n",
    "        \"For n_clusters =\",\n",
    "        n_clusters,\n",
    "        \"The average silhouette_score is :\",\n",
    "        silhouette_avg,\n",
    "    )\n",
    "\n",
    "    # Compute the silhouette scores for each sample\n",
    "    sample_silhouette_values = silhouette_samples(X, cluster_labels)\n",
    "\n",
    "    y_lower = 10\n",
    "    for i in range(n_clusters):\n",
    "        # Aggregate the silhouette scores for samples belonging to\n",
    "        # cluster i, and sort them\n",
    "        ith_cluster_silhouette_values = sample_silhouette_values[cluster_labels == i]\n",
    "\n",
    "        ith_cluster_silhouette_values.sort()\n",
    "\n",
    "        size_cluster_i = ith_cluster_silhouette_values.shape[0]\n",
    "        y_upper = y_lower + size_cluster_i\n",
    "\n",
    "        color = cm.nipy_spectral(float(i) / n_clusters)\n",
    "        ax1.fill_betweenx(\n",
    "            np.arange(y_lower, y_upper),\n",
    "            0,\n",
    "            ith_cluster_silhouette_values,\n",
    "            facecolor=color,\n",
    "            edgecolor=color,\n",
    "            alpha=0.7,\n",
    "        )\n",
    "\n",
    "        # Label the silhouette plots with their cluster numbers at the middle\n",
    "        ax1.text(-0.05, y_lower + 0.5 * size_cluster_i, str(i))\n",
    "\n",
    "        # Compute the new y_lower for next plot\n",
    "        y_lower = y_upper + 10  # 10 for the 0 samples\n",
    "\n",
    "    ax1.set_title(\"The silhouette plot for the various clusters.\")\n",
    "    ax1.set_xlabel(\"The silhouette coefficient values\")\n",
    "    ax1.set_ylabel(\"Cluster label\")\n",
    "\n",
    "    # The vertical line for average silhouette score of all the values\n",
    "    ax1.axvline(x=silhouette_avg, color=\"red\", linestyle=\"--\")\n",
    "\n",
    "    ax1.set_yticks([])  # Clear the yaxis labels / ticks\n",
    "    ax1.set_xticks([-0.1, 0, 0.2, 0.4, 0.6, 0.8, 1])\n",
    "\n",
    "    # 2nd Plot showing the actual clusters formed\n",
    "    colors = cm.nipy_spectral(cluster_labels.astype(float) / n_clusters)\n",
    "    \n",
    "    ax2.scatter(\n",
    "        X[:, 0].toarray(), X[:, 1].toarray(), marker=\".\", s=30, lw=0, alpha=0.7, c=colors, edgecolor=\"k\"\n",
    "    )\n",
    "\n",
    "    # Labeling the clusters\n",
    "    centers = clusterer.cluster_centers_\n",
    "    # Draw white circles at cluster centers\n",
    "    ax2.scatter(\n",
    "        centers[:, 0],\n",
    "        centers[:, 1],\n",
    "        marker=\"o\",\n",
    "        c=\"white\",\n",
    "        alpha=1,\n",
    "        s=200,\n",
    "        edgecolor=\"k\",\n",
    "    )\n",
    "\n",
    "    for i, c in enumerate(centers):\n",
    "        ax2.scatter(c[0], c[1], marker=\"$%d$\" % i, alpha=1, s=50, edgecolor=\"k\")\n",
    "\n",
    "    ax2.set_title(\"The visualization of the clustered data.\")\n",
    "    ax2.set_xlabel(\"Feature space for the 1st feature\")\n",
    "    ax2.set_ylabel(\"Feature space for the 2nd feature\")\n",
    "\n",
    "    plt.suptitle(\n",
    "        \"Silhouette analysis for KMeans clustering on sample data with n_clusters = %d\"\n",
    "        % n_clusters,\n",
    "        fontsize=14,\n",
    "        fontweight=\"bold\",\n",
    "    )\n",
    "\n",
    "plt.show()"
   ]
  },
  {
   "cell_type": "code",
   "execution_count": null,
   "metadata": {},
   "outputs": [],
   "source": [
    "from sklearn.cluster import KMeans\n",
    "from sklearn.metrics import silhouette_samples, silhouette_score\n",
    "\n",
    "import matplotlib.pyplot as plt\n",
    "import matplotlib.cm as cm\n",
    "import numpy as np\n",
    "\n",
    "\n",
    "\n",
    "range_n_clusters = [50, 75, 100] #[2, 3, 4, 5, 6]\n",
    "\n",
    "for n_clusters in range_n_clusters:\n",
    "    # Create a subplot with 1 row and 2 columns\n",
    "    fig, (ax1, ax2) = plt.subplots(1, 2)\n",
    "    fig.set_size_inches(18, 7)\n",
    "\n",
    "    # The 1st subplot is the silhouette plot\n",
    "    # The silhouette coefficient can range from -1, 1 but in this example all\n",
    "    # lie within [-0.1, 1]\n",
    "    ax1.set_xlim([-0.1, 1])\n",
    "    # The (n_clusters+1)*10 is for inserting blank space between silhouette\n",
    "    # plots of individual clusters, to demarcate them clearly.\n",
    "    ax1.set_ylim([0, X.shape[0] + (n_clusters + 1) * 10])\n",
    "\n",
    "    # Initialize the clusterer with n_clusters value and a random generator\n",
    "    # seed of 10 for reproducibility.\n",
    "    clusterer = KMeans(n_clusters=n_clusters, random_state=10)\n",
    "    cluster_labels = clusterer.fit_predict(X)\n",
    "\n",
    "    # The silhouette_score gives the average value for all the samples.\n",
    "    # This gives a perspective into the density and separation of the formed\n",
    "    # clusters\n",
    "    silhouette_avg = silhouette_score(X, cluster_labels)\n",
    "    print(\n",
    "        \"For n_clusters =\",\n",
    "        n_clusters,\n",
    "        \"The average silhouette_score is :\",\n",
    "        silhouette_avg,\n",
    "    )\n",
    "\n",
    "    # Compute the silhouette scores for each sample\n",
    "    sample_silhouette_values = silhouette_samples(X, cluster_labels)\n",
    "\n",
    "    y_lower = 10\n",
    "    for i in range(n_clusters):\n",
    "        # Aggregate the silhouette scores for samples belonging to\n",
    "        # cluster i, and sort them\n",
    "        ith_cluster_silhouette_values = sample_silhouette_values[cluster_labels == i]\n",
    "\n",
    "        ith_cluster_silhouette_values.sort()\n",
    "\n",
    "        size_cluster_i = ith_cluster_silhouette_values.shape[0]\n",
    "        y_upper = y_lower + size_cluster_i\n",
    "\n",
    "        color = cm.nipy_spectral(float(i) / n_clusters)\n",
    "        ax1.fill_betweenx(\n",
    "            np.arange(y_lower, y_upper),\n",
    "            0,\n",
    "            ith_cluster_silhouette_values,\n",
    "            facecolor=color,\n",
    "            edgecolor=color,\n",
    "            alpha=0.7,\n",
    "        )\n",
    "\n",
    "        # Label the silhouette plots with their cluster numbers at the middle\n",
    "        ax1.text(-0.05, y_lower + 0.5 * size_cluster_i, str(i))\n",
    "\n",
    "        # Compute the new y_lower for next plot\n",
    "        y_lower = y_upper + 10  # 10 for the 0 samples\n",
    "\n",
    "    ax1.set_title(\"The silhouette plot for the various clusters.\")\n",
    "    ax1.set_xlabel(\"The silhouette coefficient values\")\n",
    "    ax1.set_ylabel(\"Cluster label\")\n",
    "\n",
    "    # The vertical line for average silhouette score of all the values\n",
    "    ax1.axvline(x=silhouette_avg, color=\"red\", linestyle=\"--\")\n",
    "\n",
    "    ax1.set_yticks([])  # Clear the yaxis labels / ticks\n",
    "    ax1.set_xticks([-0.1, 0, 0.2, 0.4, 0.6, 0.8, 1])\n",
    "\n",
    "    # 2nd Plot showing the actual clusters formed\n",
    "    colors = cm.nipy_spectral(cluster_labels.astype(float) / n_clusters)\n",
    "    \n",
    "    ax2.scatter(\n",
    "        X[:, 0].toarray(), X[:, 1].toarray(), marker=\".\", s=30, lw=0, alpha=0.7, c=colors, edgecolor=\"k\"\n",
    "    )\n",
    "\n",
    "    # Labeling the clusters\n",
    "    centers = clusterer.cluster_centers_\n",
    "    # Draw white circles at cluster centers\n",
    "    ax2.scatter(\n",
    "        centers[:, 0],\n",
    "        centers[:, 1],\n",
    "        marker=\"o\",\n",
    "        c=\"white\",\n",
    "        alpha=1,\n",
    "        s=200,\n",
    "        edgecolor=\"k\",\n",
    "    )\n",
    "\n",
    "    for i, c in enumerate(centers):\n",
    "        ax2.scatter(c[0], c[1], marker=\"$%d$\" % i, alpha=1, s=50, edgecolor=\"k\")\n",
    "\n",
    "    ax2.set_title(\"The visualization of the clustered data.\")\n",
    "    ax2.set_xlabel(\"Feature space for the 1st feature\")\n",
    "    ax2.set_ylabel(\"Feature space for the 2nd feature\")\n",
    "\n",
    "    plt.suptitle(\n",
    "        \"Silhouette analysis for KMeans clustering on sample data with n_clusters = %d\"\n",
    "        % n_clusters,\n",
    "        fontsize=14,\n",
    "        fontweight=\"bold\",\n",
    "    )\n",
    "\n",
    "plt.show()"
   ]
  },
  {
   "cell_type": "code",
   "execution_count": null,
   "metadata": {},
   "outputs": [],
   "source": []
  }
 ],
 "metadata": {
  "kernelspec": {
   "display_name": "Python 3",
   "language": "python",
   "name": "python3"
  },
  "language_info": {
   "codemirror_mode": {
    "name": "ipython",
    "version": 3
   },
   "file_extension": ".py",
   "mimetype": "text/x-python",
   "name": "python",
   "nbconvert_exporter": "python",
   "pygments_lexer": "ipython3",
   "version": "3.7.0"
  }
 },
 "nbformat": 4,
 "nbformat_minor": 2
}
